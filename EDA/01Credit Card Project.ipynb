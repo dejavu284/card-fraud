{
 "cells": [
  {
   "cell_type": "markdown",
   "id": "5112a8a4",
   "metadata": {},
   "source": [
    "# Импорт библиотек, которые потребуются для анализа данных"
   ]
  },
  {
   "cell_type": "code",
   "execution_count": 1,
   "id": "9ed4e524",
   "metadata": {},
   "outputs": [],
   "source": [
    "import pandas as pd\n",
    "import os\n",
    "credit_card = os.path.join('./creditcard.csv')\n",
    "import seaborn as sns\n",
    "\n",
    "# models of ML\n",
    "from sklearn.ensemble import RandomForestClassifier\n",
    "from sklearn import tree\n",
    "from sklearn.neighbors import KNeighborsClassifier\n",
    "\n",
    "# preprocessing and metrics\n",
    "from sklearn.model_selection import train_test_split\n",
    "from sklearn.preprocessing import StandardScaler\n",
    "from sklearn.metrics import (\n",
    "    accuracy_score, roc_auc_score, classification_report, \n",
    "    confusion_matrix, precision_recall_fscore_support)\n",
    "import warnings\n",
    "warnings.filterwarnings(\"ignore\")"
   ]
  },
  {
   "cell_type": "markdown",
   "id": "6000d50e",
   "metadata": {},
   "source": [
    "# Загрузка и разбиение датасета"
   ]
  },
  {
   "cell_type": "code",
   "execution_count": 7,
   "id": "20b9ff3c",
   "metadata": {},
   "outputs": [
    {
     "name": "stdout",
     "output_type": "stream",
     "text": [
      "<class 'pandas.core.frame.DataFrame'>\n",
      "RangeIndex: 284807 entries, 0 to 284806\n",
      "Data columns (total 9 columns):\n",
      " #   Column  Non-Null Count   Dtype  \n",
      "---  ------  --------------   -----  \n",
      " 0   V17     284807 non-null  float64\n",
      " 1   V12     284807 non-null  float64\n",
      " 2   V14     284807 non-null  float64\n",
      " 3   V10     284807 non-null  float64\n",
      " 4   V11     284807 non-null  float64\n",
      " 5   V16     284807 non-null  float64\n",
      " 6   V18     284807 non-null  float64\n",
      " 7   V9      284807 non-null  float64\n",
      " 8   Class   284807 non-null  int64  \n",
      "dtypes: float64(8), int64(1)\n",
      "memory usage: 19.6 MB\n"
     ]
    }
   ],
   "source": [
    "df=pd.read_csv(credit_card)\n",
    "df = df[['V17','V12','V14','V10','V11','V16','V18','V9','Class']]\n",
    "df.info()"
   ]
  },
  {
   "cell_type": "markdown",
   "id": "4033d8f6",
   "metadata": {},
   "source": [
    "* Разобьём выборку на тестовую и тренировочную"
   ]
  },
  {
   "cell_type": "code",
   "execution_count": 8,
   "id": "969b927a",
   "metadata": {},
   "outputs": [],
   "source": [
    "X_train, X_test, y_train, y_test = train_test_split(df.iloc[:,:-1], df.iloc[:,-1], test_size=0.2, random_state=42, stratify=df.iloc[:,-1])"
   ]
  },
  {
   "cell_type": "code",
   "execution_count": 43,
   "id": "c208234e",
   "metadata": {},
   "outputs": [],
   "source": [
    "df_train = pd.concat([X_train, y_train], axis=1)\n",
    "df_test = pd.concat([X_test, y_test], axis=1)"
   ]
  },
  {
   "cell_type": "code",
   "execution_count": 44,
   "id": "62eea724",
   "metadata": {},
   "outputs": [
    {
     "name": "stdout",
     "output_type": "stream",
     "text": [
      "<class 'pandas.core.frame.DataFrame'>\n",
      "Int64Index: 227845 entries, 265518 to 17677\n",
      "Data columns (total 9 columns):\n",
      " #   Column  Non-Null Count   Dtype  \n",
      "---  ------  --------------   -----  \n",
      " 0   V17     227845 non-null  float64\n",
      " 1   V12     227845 non-null  float64\n",
      " 2   V14     227845 non-null  float64\n",
      " 3   V10     227845 non-null  float64\n",
      " 4   V11     227845 non-null  float64\n",
      " 5   V16     227845 non-null  float64\n",
      " 6   V18     227845 non-null  float64\n",
      " 7   V9      227845 non-null  float64\n",
      " 8   Class   227845 non-null  int64  \n",
      "dtypes: float64(8), int64(1)\n",
      "memory usage: 17.4 MB\n"
     ]
    }
   ],
   "source": [
    "df_train.info()"
   ]
  },
  {
   "cell_type": "code",
   "execution_count": 11,
   "id": "ec82f128",
   "metadata": {},
   "outputs": [],
   "source": [
    "# df.nunique()"
   ]
  },
  {
   "cell_type": "markdown",
   "id": "6cb14d2c",
   "metadata": {},
   "source": [
    "* Так как значение признаков Time и Amount повторяются, они скорее помешают обучению модели, поэтому их следует убрать"
   ]
  },
  {
   "cell_type": "code",
   "execution_count": 12,
   "id": "ffa9f8ec",
   "metadata": {},
   "outputs": [],
   "source": [
    "Y = pd.DataFrame(df.iloc[:,-1])"
   ]
  },
  {
   "cell_type": "code",
   "execution_count": 13,
   "id": "65ac39bf",
   "metadata": {},
   "outputs": [],
   "source": [
    "X = df.iloc[:,1:-2]"
   ]
  },
  {
   "cell_type": "markdown",
   "id": "e9cbedd0",
   "metadata": {},
   "source": [
    "# Оставим только важные признаки"
   ]
  },
  {
   "cell_type": "code",
   "execution_count": 14,
   "id": "1a6a744e",
   "metadata": {
    "scrolled": true
   },
   "outputs": [
    {
     "data": {
      "text/html": [
       "<div>\n",
       "<style scoped>\n",
       "    .dataframe tbody tr th:only-of-type {\n",
       "        vertical-align: middle;\n",
       "    }\n",
       "\n",
       "    .dataframe tbody tr th {\n",
       "        vertical-align: top;\n",
       "    }\n",
       "\n",
       "    .dataframe thead th {\n",
       "        text-align: right;\n",
       "    }\n",
       "</style>\n",
       "<table border=\"1\" class=\"dataframe\">\n",
       "  <thead>\n",
       "    <tr style=\"text-align: right;\">\n",
       "      <th></th>\n",
       "      <th>Importence</th>\n",
       "    </tr>\n",
       "  </thead>\n",
       "  <tbody>\n",
       "    <tr>\n",
       "      <th>Class</th>\n",
       "      <td>0.789201</td>\n",
       "    </tr>\n",
       "    <tr>\n",
       "      <th>V17</th>\n",
       "      <td>0.066200</td>\n",
       "    </tr>\n",
       "    <tr>\n",
       "      <th>V14</th>\n",
       "      <td>0.044889</td>\n",
       "    </tr>\n",
       "    <tr>\n",
       "      <th>V12</th>\n",
       "      <td>0.028765</td>\n",
       "    </tr>\n",
       "    <tr>\n",
       "      <th>V11</th>\n",
       "      <td>0.021553</td>\n",
       "    </tr>\n",
       "    <tr>\n",
       "      <th>V10</th>\n",
       "      <td>0.019038</td>\n",
       "    </tr>\n",
       "    <tr>\n",
       "      <th>V9</th>\n",
       "      <td>0.013142</td>\n",
       "    </tr>\n",
       "    <tr>\n",
       "      <th>V16</th>\n",
       "      <td>0.011203</td>\n",
       "    </tr>\n",
       "    <tr>\n",
       "      <th>V18</th>\n",
       "      <td>0.006010</td>\n",
       "    </tr>\n",
       "  </tbody>\n",
       "</table>\n",
       "</div>"
      ],
      "text/plain": [
       "       Importence\n",
       "Class    0.789201\n",
       "V17      0.066200\n",
       "V14      0.044889\n",
       "V12      0.028765\n",
       "V11      0.021553\n",
       "V10      0.019038\n",
       "V9       0.013142\n",
       "V16      0.011203\n",
       "V18      0.006010"
      ]
     },
     "execution_count": 14,
     "metadata": {},
     "output_type": "execute_result"
    }
   ],
   "source": [
    "from sklearn.ensemble import ExtraTreesClassifier\n",
    "selector=ExtraTreesClassifier()\n",
    "result=selector.fit(df[df.columns],df['Class'])\n",
    "\n",
    "table=pd.DataFrame(result.feature_importances_,index=df.columns,columns=['Importence'])\n",
    "table.sort_values(by='Importence',ascending=False)"
   ]
  },
  {
   "cell_type": "markdown",
   "id": "8f17fc4b",
   "metadata": {},
   "source": [
    "## Избавимся от аномалий и выбросов\n",
    "* Для этого можно применить несколько разных методов: \n",
    "    * при помощи среднего и отклонения\n",
    "    * с использованием Квантилей(Квартилей/.quantile())\n",
    "    * ещё можно попробовать использовать критерий Шовене, но это в другой раз"
   ]
  },
  {
   "cell_type": "markdown",
   "id": "1a9fc667",
   "metadata": {
    "scrolled": false
   },
   "source": [
    "* df.describe() \n",
    "* Так как медиана и отклонение сильно отличаются друг от друга, можно сделать вывод, что выборка не симметричная"
   ]
  },
  {
   "cell_type": "markdown",
   "id": "ec315789",
   "metadata": {},
   "source": [
    "* Посмотрим на ящики с усами;"
   ]
  },
  {
   "cell_type": "code",
   "execution_count": 45,
   "id": "17b88d44",
   "metadata": {},
   "outputs": [],
   "source": [
    "df_cut = df_train"
   ]
  },
  {
   "cell_type": "code",
   "execution_count": 70,
   "id": "ef06ee25",
   "metadata": {},
   "outputs": [
    {
     "data": {
      "text/plain": [
       "0    150069\n",
       "1        22\n",
       "Name: Class, dtype: int64"
      ]
     },
     "execution_count": 70,
     "metadata": {},
     "output_type": "execute_result"
    }
   ],
   "source": [
    "df_train.Class.value_counts()"
   ]
  },
  {
   "cell_type": "code",
   "execution_count": 47,
   "id": "c801927f",
   "metadata": {},
   "outputs": [
    {
     "data": {
      "text/plain": [
       "<AxesSubplot: xlabel='V9'>"
      ]
     },
     "execution_count": 47,
     "metadata": {},
     "output_type": "execute_result"
    }
   ],
   "source": [
    "df_train.boxplot(column=['V17','V12','V14','V10','V11','V16','V18','V9','Class'])"
   ]
  },
  {
   "cell_type": "code",
   "execution_count": 19,
   "id": "56b64cde",
   "metadata": {
    "scrolled": false
   },
   "outputs": [
    {
     "data": {
      "text/plain": [
       "<AxesSubplot: xlabel='V9'>"
      ]
     },
     "execution_count": 19,
     "metadata": {},
     "output_type": "execute_result"
    }
   ],
   "source": [
    "sns.boxplot(data=df_cut, x='V9') # подставляем под x поочерёдно все столбцы"
   ]
  },
  {
   "cell_type": "markdown",
   "id": "531695f8",
   "metadata": {},
   "source": [
    "* видно что в данных очень много выбросов, значит будем избавляться от них!"
   ]
  },
  {
   "cell_type": "markdown",
   "id": "e228967b",
   "metadata": {},
   "source": [
    "* Используя метод квантилей, теряем много (100 тысяч) объектов, что не критично, однако, после этого в датасете остаётся только 26 объектов принадлежащих классу 1 (классу мошеннических операций), что Очень критично\n",
    "\n",
    "\n",
    "* Попробуем натренировать модели после такой очистки, и посмотреть на результат, а после этого попробовать другой метод избавления от аномалий, и снова обучить модели и проверить результат предсказания "
   ]
  },
  {
   "cell_type": "code",
   "execution_count": 48,
   "id": "c923dbb4",
   "metadata": {
    "scrolled": false
   },
   "outputs": [
    {
     "name": "stdout",
     "output_type": "stream",
     "text": [
      "<class 'pandas.core.frame.DataFrame'>\n",
      "RangeIndex: 284807 entries, 0 to 284806\n",
      "Data columns (total 8 columns):\n",
      " #   Column  Non-Null Count   Dtype  \n",
      "---  ------  --------------   -----  \n",
      " 0   V17     284807 non-null  float64\n",
      " 1   V12     284807 non-null  float64\n",
      " 2   V14     284807 non-null  float64\n",
      " 3   V10     284807 non-null  float64\n",
      " 4   V11     284807 non-null  float64\n",
      " 5   V16     284807 non-null  float64\n",
      " 6   V18     284807 non-null  float64\n",
      " 7   V9      284807 non-null  float64\n",
      "dtypes: float64(8)\n",
      "memory usage: 17.4 MB\n"
     ]
    },
    {
     "data": {
      "text/plain": [
       "(None,\n",
       " 0    227451\n",
       " 1       394\n",
       " Name: Class, dtype: int64)"
      ]
     },
     "execution_count": 48,
     "metadata": {},
     "output_type": "execute_result"
    }
   ],
   "source": [
    "X = df[['V17','V12','V14','V10','V11','V16','V18','V9']]\n",
    "X.info(), df_cut['Class'].value_counts()"
   ]
  },
  {
   "cell_type": "code",
   "execution_count": null,
   "id": "6c645971",
   "metadata": {
    "collapsed": true
   },
   "outputs": [],
   "source": [
    "# for i in X.columns:\n",
    "#     left_side = df_cut[i].mean() - 5 * df_cut[i].std()\n",
    "#     right_side = df_cut[i].mean() + 5 * df_cut[i].std()\n",
    "\n",
    "#     df_cut = df_cut[(df_cut[i] > left_side) & (df_cut[i] < (right_side))]\n",
    "\n",
    "# df_cut.info(), df_cut['Class'].value_counts()"
   ]
  },
  {
   "cell_type": "code",
   "execution_count": 49,
   "id": "da00b943",
   "metadata": {},
   "outputs": [
    {
     "data": {
      "text/html": [
       "<div>\n",
       "<style scoped>\n",
       "    .dataframe tbody tr th:only-of-type {\n",
       "        vertical-align: middle;\n",
       "    }\n",
       "\n",
       "    .dataframe tbody tr th {\n",
       "        vertical-align: top;\n",
       "    }\n",
       "\n",
       "    .dataframe thead th {\n",
       "        text-align: right;\n",
       "    }\n",
       "</style>\n",
       "<table border=\"1\" class=\"dataframe\">\n",
       "  <thead>\n",
       "    <tr style=\"text-align: right;\">\n",
       "      <th></th>\n",
       "      <th>V17</th>\n",
       "      <th>V12</th>\n",
       "      <th>V14</th>\n",
       "      <th>V10</th>\n",
       "      <th>V11</th>\n",
       "      <th>V16</th>\n",
       "      <th>V18</th>\n",
       "      <th>V9</th>\n",
       "      <th>Class</th>\n",
       "    </tr>\n",
       "  </thead>\n",
       "  <tbody>\n",
       "    <tr>\n",
       "      <th>265518</th>\n",
       "      <td>-0.765670</td>\n",
       "      <td>0.510277</td>\n",
       "      <td>-0.066555</td>\n",
       "      <td>-0.157403</td>\n",
       "      <td>-0.113729</td>\n",
       "      <td>0.352514</td>\n",
       "      <td>0.141938</td>\n",
       "      <td>1.406819</td>\n",
       "      <td>0</td>\n",
       "    </tr>\n",
       "    <tr>\n",
       "      <th>180305</th>\n",
       "      <td>-0.270842</td>\n",
       "      <td>0.325560</td>\n",
       "      <td>0.721068</td>\n",
       "      <td>0.284864</td>\n",
       "      <td>-0.254903</td>\n",
       "      <td>-0.754029</td>\n",
       "      <td>-0.695698</td>\n",
       "      <td>0.045826</td>\n",
       "      <td>0</td>\n",
       "    </tr>\n",
       "    <tr>\n",
       "      <th>42664</th>\n",
       "      <td>-0.724616</td>\n",
       "      <td>1.820161</td>\n",
       "      <td>0.122746</td>\n",
       "      <td>-2.009561</td>\n",
       "      <td>-0.386845</td>\n",
       "      <td>1.123344</td>\n",
       "      <td>0.147255</td>\n",
       "      <td>0.000772</td>\n",
       "      <td>0</td>\n",
       "    </tr>\n",
       "    <tr>\n",
       "      <th>198723</th>\n",
       "      <td>0.072781</td>\n",
       "      <td>-0.722450</td>\n",
       "      <td>-0.195288</td>\n",
       "      <td>1.756121</td>\n",
       "      <td>0.093136</td>\n",
       "      <td>-0.065888</td>\n",
       "      <td>0.768237</td>\n",
       "      <td>-1.118447</td>\n",
       "      <td>0</td>\n",
       "    </tr>\n",
       "    <tr>\n",
       "      <th>82325</th>\n",
       "      <td>-0.399525</td>\n",
       "      <td>-0.054708</td>\n",
       "      <td>0.134659</td>\n",
       "      <td>-0.558955</td>\n",
       "      <td>-0.251076</td>\n",
       "      <td>-2.096099</td>\n",
       "      <td>1.597589</td>\n",
       "      <td>-0.044782</td>\n",
       "      <td>0</td>\n",
       "    </tr>\n",
       "    <tr>\n",
       "      <th>...</th>\n",
       "      <td>...</td>\n",
       "      <td>...</td>\n",
       "      <td>...</td>\n",
       "      <td>...</td>\n",
       "      <td>...</td>\n",
       "      <td>...</td>\n",
       "      <td>...</td>\n",
       "      <td>...</td>\n",
       "      <td>...</td>\n",
       "    </tr>\n",
       "    <tr>\n",
       "      <th>233802</th>\n",
       "      <td>-0.906442</td>\n",
       "      <td>0.584204</td>\n",
       "      <td>0.062302</td>\n",
       "      <td>0.212619</td>\n",
       "      <td>0.319897</td>\n",
       "      <td>0.684356</td>\n",
       "      <td>0.739436</td>\n",
       "      <td>0.995898</td>\n",
       "      <td>0</td>\n",
       "    </tr>\n",
       "    <tr>\n",
       "      <th>85418</th>\n",
       "      <td>1.241541</td>\n",
       "      <td>0.373473</td>\n",
       "      <td>-0.401809</td>\n",
       "      <td>0.108640</td>\n",
       "      <td>0.521818</td>\n",
       "      <td>-1.879937</td>\n",
       "      <td>-2.623211</td>\n",
       "      <td>0.452745</td>\n",
       "      <td>0</td>\n",
       "    </tr>\n",
       "    <tr>\n",
       "      <th>29062</th>\n",
       "      <td>0.404795</td>\n",
       "      <td>0.445453</td>\n",
       "      <td>0.166727</td>\n",
       "      <td>-0.131553</td>\n",
       "      <td>-0.305690</td>\n",
       "      <td>-0.796913</td>\n",
       "      <td>-1.033061</td>\n",
       "      <td>0.319684</td>\n",
       "      <td>0</td>\n",
       "    </tr>\n",
       "    <tr>\n",
       "      <th>13766</th>\n",
       "      <td>-0.247970</td>\n",
       "      <td>-1.666023</td>\n",
       "      <td>1.799882</td>\n",
       "      <td>-0.268878</td>\n",
       "      <td>1.708922</td>\n",
       "      <td>0.705997</td>\n",
       "      <td>0.483059</td>\n",
       "      <td>1.111187</td>\n",
       "      <td>0</td>\n",
       "    </tr>\n",
       "    <tr>\n",
       "      <th>17677</th>\n",
       "      <td>0.517052</td>\n",
       "      <td>0.907240</td>\n",
       "      <td>-0.420510</td>\n",
       "      <td>-0.512312</td>\n",
       "      <td>-0.122119</td>\n",
       "      <td>-0.995150</td>\n",
       "      <td>-1.113362</td>\n",
       "      <td>-0.017496</td>\n",
       "      <td>0</td>\n",
       "    </tr>\n",
       "  </tbody>\n",
       "</table>\n",
       "<p>227845 rows × 9 columns</p>\n",
       "</div>"
      ],
      "text/plain": [
       "             V17       V12       V14       V10       V11       V16       V18  \\\n",
       "265518 -0.765670  0.510277 -0.066555 -0.157403 -0.113729  0.352514  0.141938   \n",
       "180305 -0.270842  0.325560  0.721068  0.284864 -0.254903 -0.754029 -0.695698   \n",
       "42664  -0.724616  1.820161  0.122746 -2.009561 -0.386845  1.123344  0.147255   \n",
       "198723  0.072781 -0.722450 -0.195288  1.756121  0.093136 -0.065888  0.768237   \n",
       "82325  -0.399525 -0.054708  0.134659 -0.558955 -0.251076 -2.096099  1.597589   \n",
       "...          ...       ...       ...       ...       ...       ...       ...   \n",
       "233802 -0.906442  0.584204  0.062302  0.212619  0.319897  0.684356  0.739436   \n",
       "85418   1.241541  0.373473 -0.401809  0.108640  0.521818 -1.879937 -2.623211   \n",
       "29062   0.404795  0.445453  0.166727 -0.131553 -0.305690 -0.796913 -1.033061   \n",
       "13766  -0.247970 -1.666023  1.799882 -0.268878  1.708922  0.705997  0.483059   \n",
       "17677   0.517052  0.907240 -0.420510 -0.512312 -0.122119 -0.995150 -1.113362   \n",
       "\n",
       "              V9  Class  \n",
       "265518  1.406819      0  \n",
       "180305  0.045826      0  \n",
       "42664   0.000772      0  \n",
       "198723 -1.118447      0  \n",
       "82325  -0.044782      0  \n",
       "...          ...    ...  \n",
       "233802  0.995898      0  \n",
       "85418   0.452745      0  \n",
       "29062   0.319684      0  \n",
       "13766   1.111187      0  \n",
       "17677  -0.017496      0  \n",
       "\n",
       "[227845 rows x 9 columns]"
      ]
     },
     "execution_count": 49,
     "metadata": {},
     "output_type": "execute_result"
    }
   ],
   "source": [
    "df_cut"
   ]
  },
  {
   "cell_type": "code",
   "execution_count": 50,
   "id": "269a2596",
   "metadata": {},
   "outputs": [],
   "source": [
    "def quantile(df_cut, X):\n",
    "    for i in X.columns:\n",
    "        a = df_cut[i].quantile(0.25)\n",
    "        b = df_cut[i].quantile(0.75)\n",
    "        df_cut = df_cut[(df_cut[i] > a - 1.5 * (b - a)) & (df_cut[i] < b + 1.5 * (b - a))]\n",
    "    return df_cut"
   ]
  },
  {
   "cell_type": "code",
   "execution_count": 51,
   "id": "12449d8e",
   "metadata": {},
   "outputs": [
    {
     "data": {
      "text/plain": [
       "227845"
      ]
     },
     "execution_count": 51,
     "metadata": {},
     "output_type": "execute_result"
    }
   ],
   "source": [
    "df_train.shape[0]"
   ]
  },
  {
   "cell_type": "code",
   "execution_count": 53,
   "id": "02eeb8d3",
   "metadata": {},
   "outputs": [
    {
     "name": "stdout",
     "output_type": "stream",
     "text": [
      "<class 'pandas.core.frame.DataFrame'>\n",
      "Int64Index: 150091 entries, 265518 to 17677\n",
      "Data columns (total 9 columns):\n",
      " #   Column  Non-Null Count   Dtype  \n",
      "---  ------  --------------   -----  \n",
      " 0   V17     150091 non-null  float64\n",
      " 1   V12     150091 non-null  float64\n",
      " 2   V14     150091 non-null  float64\n",
      " 3   V10     150091 non-null  float64\n",
      " 4   V11     150091 non-null  float64\n",
      " 5   V16     150091 non-null  float64\n",
      " 6   V18     150091 non-null  float64\n",
      " 7   V9      150091 non-null  float64\n",
      " 8   Class   150091 non-null  int64  \n",
      "dtypes: float64(8), int64(1)\n",
      "memory usage: 11.5 MB\n"
     ]
    }
   ],
   "source": [
    "# Очистим датасет от выбросов, применяя функцию очистки несколько раз, пока она не уберет все выбросы\n",
    "l = 3\n",
    "while l !=0:\n",
    "    first_value = df_train.shape[0]\n",
    "    df_train = quantile(df_train, X)\n",
    "    second_value = df_train.shape[0]\n",
    "    l = first_value - second_value\n",
    "df_train.info()"
   ]
  },
  {
   "cell_type": "code",
   "execution_count": 40,
   "id": "653d1c88",
   "metadata": {
    "scrolled": false
   },
   "outputs": [
    {
     "name": "stdout",
     "output_type": "stream",
     "text": [
      "<class 'pandas.core.frame.DataFrame'>\n",
      "Int64Index: 150091 entries, 265518 to 17677\n",
      "Data columns (total 9 columns):\n",
      " #   Column  Non-Null Count   Dtype  \n",
      "---  ------  --------------   -----  \n",
      " 0   V17     150091 non-null  float64\n",
      " 1   V12     150091 non-null  float64\n",
      " 2   V14     150091 non-null  float64\n",
      " 3   V10     150091 non-null  float64\n",
      " 4   V11     150091 non-null  float64\n",
      " 5   V16     150091 non-null  float64\n",
      " 6   V18     150091 non-null  float64\n",
      " 7   V9      150091 non-null  float64\n",
      " 8   Class   150091 non-null  int64  \n",
      "dtypes: float64(8), int64(1)\n",
      "memory usage: 11.5 MB\n"
     ]
    },
    {
     "data": {
      "text/plain": [
       "(None,\n",
       " 0    150069\n",
       " 1        22\n",
       " Name: Class, dtype: int64)"
      ]
     },
     "execution_count": 40,
     "metadata": {},
     "output_type": "execute_result"
    }
   ],
   "source": [
    "for i in X.columns:\n",
    "    a = df_cut[i].quantile(0.25)\n",
    "    b = df_cut[i].quantile(0.75)\n",
    "    df_cut = df_cut[(df_cut[i] > a - 1.5 * (b - a)) & (df_cut[i] < b + 1.5 * (b - a))]\n",
    "    \n",
    "df_cut.info(), df_cut['Class'].value_counts()"
   ]
  },
  {
   "cell_type": "code",
   "execution_count": 112,
   "id": "da4e2a21",
   "metadata": {},
   "outputs": [
    {
     "data": {
      "text/html": [
       "<div>\n",
       "<style scoped>\n",
       "    .dataframe tbody tr th:only-of-type {\n",
       "        vertical-align: middle;\n",
       "    }\n",
       "\n",
       "    .dataframe tbody tr th {\n",
       "        vertical-align: top;\n",
       "    }\n",
       "\n",
       "    .dataframe thead th {\n",
       "        text-align: right;\n",
       "    }\n",
       "</style>\n",
       "<table border=\"1\" class=\"dataframe\">\n",
       "  <thead>\n",
       "    <tr style=\"text-align: right;\">\n",
       "      <th></th>\n",
       "      <th>V17</th>\n",
       "      <th>V12</th>\n",
       "      <th>V14</th>\n",
       "      <th>V10</th>\n",
       "      <th>V11</th>\n",
       "      <th>V16</th>\n",
       "      <th>V18</th>\n",
       "      <th>V9</th>\n",
       "      <th>Class</th>\n",
       "    </tr>\n",
       "  </thead>\n",
       "  <tbody>\n",
       "    <tr>\n",
       "      <th>265518</th>\n",
       "      <td>-0.765670</td>\n",
       "      <td>0.510277</td>\n",
       "      <td>-0.066555</td>\n",
       "      <td>-0.157403</td>\n",
       "      <td>-0.113729</td>\n",
       "      <td>0.352514</td>\n",
       "      <td>0.141938</td>\n",
       "      <td>1.406819</td>\n",
       "      <td>0</td>\n",
       "    </tr>\n",
       "    <tr>\n",
       "      <th>180305</th>\n",
       "      <td>-0.270842</td>\n",
       "      <td>0.325560</td>\n",
       "      <td>0.721068</td>\n",
       "      <td>0.284864</td>\n",
       "      <td>-0.254903</td>\n",
       "      <td>-0.754029</td>\n",
       "      <td>-0.695698</td>\n",
       "      <td>0.045826</td>\n",
       "      <td>0</td>\n",
       "    </tr>\n",
       "    <tr>\n",
       "      <th>270403</th>\n",
       "      <td>-1.097096</td>\n",
       "      <td>1.158784</td>\n",
       "      <td>0.032692</td>\n",
       "      <td>-0.499631</td>\n",
       "      <td>0.101414</td>\n",
       "      <td>0.615232</td>\n",
       "      <td>1.078787</td>\n",
       "      <td>1.485832</td>\n",
       "      <td>0</td>\n",
       "    </tr>\n",
       "    <tr>\n",
       "      <th>235709</th>\n",
       "      <td>-0.494964</td>\n",
       "      <td>0.499746</td>\n",
       "      <td>-0.201325</td>\n",
       "      <td>-0.166011</td>\n",
       "      <td>-0.975933</td>\n",
       "      <td>0.068961</td>\n",
       "      <td>0.190176</td>\n",
       "      <td>1.465829</td>\n",
       "      <td>0</td>\n",
       "    </tr>\n",
       "    <tr>\n",
       "      <th>263511</th>\n",
       "      <td>-0.714205</td>\n",
       "      <td>0.678564</td>\n",
       "      <td>0.887553</td>\n",
       "      <td>0.110757</td>\n",
       "      <td>0.752840</td>\n",
       "      <td>0.056597</td>\n",
       "      <td>-0.008122</td>\n",
       "      <td>0.322583</td>\n",
       "      <td>0</td>\n",
       "    </tr>\n",
       "    <tr>\n",
       "      <th>...</th>\n",
       "      <td>...</td>\n",
       "      <td>...</td>\n",
       "      <td>...</td>\n",
       "      <td>...</td>\n",
       "      <td>...</td>\n",
       "      <td>...</td>\n",
       "      <td>...</td>\n",
       "      <td>...</td>\n",
       "      <td>...</td>\n",
       "    </tr>\n",
       "    <tr>\n",
       "      <th>176250</th>\n",
       "      <td>0.277227</td>\n",
       "      <td>1.073161</td>\n",
       "      <td>0.467687</td>\n",
       "      <td>-0.240386</td>\n",
       "      <td>0.741316</td>\n",
       "      <td>-0.960874</td>\n",
       "      <td>-1.207569</td>\n",
       "      <td>0.917156</td>\n",
       "      <td>0</td>\n",
       "    </tr>\n",
       "    <tr>\n",
       "      <th>3441</th>\n",
       "      <td>-0.783303</td>\n",
       "      <td>1.319156</td>\n",
       "      <td>0.161817</td>\n",
       "      <td>-0.999876</td>\n",
       "      <td>1.648799</td>\n",
       "      <td>-0.474020</td>\n",
       "      <td>0.392973</td>\n",
       "      <td>0.463473</td>\n",
       "      <td>0</td>\n",
       "    </tr>\n",
       "    <tr>\n",
       "      <th>233802</th>\n",
       "      <td>-0.906442</td>\n",
       "      <td>0.584204</td>\n",
       "      <td>0.062302</td>\n",
       "      <td>0.212619</td>\n",
       "      <td>0.319897</td>\n",
       "      <td>0.684356</td>\n",
       "      <td>0.739436</td>\n",
       "      <td>0.995898</td>\n",
       "      <td>0</td>\n",
       "    </tr>\n",
       "    <tr>\n",
       "      <th>29062</th>\n",
       "      <td>0.404795</td>\n",
       "      <td>0.445453</td>\n",
       "      <td>0.166727</td>\n",
       "      <td>-0.131553</td>\n",
       "      <td>-0.305690</td>\n",
       "      <td>-0.796913</td>\n",
       "      <td>-1.033061</td>\n",
       "      <td>0.319684</td>\n",
       "      <td>0</td>\n",
       "    </tr>\n",
       "    <tr>\n",
       "      <th>17677</th>\n",
       "      <td>0.517052</td>\n",
       "      <td>0.907240</td>\n",
       "      <td>-0.420510</td>\n",
       "      <td>-0.512312</td>\n",
       "      <td>-0.122119</td>\n",
       "      <td>-0.995150</td>\n",
       "      <td>-1.113362</td>\n",
       "      <td>-0.017496</td>\n",
       "      <td>0</td>\n",
       "    </tr>\n",
       "  </tbody>\n",
       "</table>\n",
       "<p>150091 rows × 9 columns</p>\n",
       "</div>"
      ],
      "text/plain": [
       "             V17       V12       V14       V10       V11       V16       V18  \\\n",
       "265518 -0.765670  0.510277 -0.066555 -0.157403 -0.113729  0.352514  0.141938   \n",
       "180305 -0.270842  0.325560  0.721068  0.284864 -0.254903 -0.754029 -0.695698   \n",
       "270403 -1.097096  1.158784  0.032692 -0.499631  0.101414  0.615232  1.078787   \n",
       "235709 -0.494964  0.499746 -0.201325 -0.166011 -0.975933  0.068961  0.190176   \n",
       "263511 -0.714205  0.678564  0.887553  0.110757  0.752840  0.056597 -0.008122   \n",
       "...          ...       ...       ...       ...       ...       ...       ...   \n",
       "176250  0.277227  1.073161  0.467687 -0.240386  0.741316 -0.960874 -1.207569   \n",
       "3441   -0.783303  1.319156  0.161817 -0.999876  1.648799 -0.474020  0.392973   \n",
       "233802 -0.906442  0.584204  0.062302  0.212619  0.319897  0.684356  0.739436   \n",
       "29062   0.404795  0.445453  0.166727 -0.131553 -0.305690 -0.796913 -1.033061   \n",
       "17677   0.517052  0.907240 -0.420510 -0.512312 -0.122119 -0.995150 -1.113362   \n",
       "\n",
       "              V9  Class  \n",
       "265518  1.406819      0  \n",
       "180305  0.045826      0  \n",
       "270403  1.485832      0  \n",
       "235709  1.465829      0  \n",
       "263511  0.322583      0  \n",
       "...          ...    ...  \n",
       "176250  0.917156      0  \n",
       "3441    0.463473      0  \n",
       "233802  0.995898      0  \n",
       "29062   0.319684      0  \n",
       "17677  -0.017496      0  \n",
       "\n",
       "[150091 rows x 9 columns]"
      ]
     },
     "execution_count": 112,
     "metadata": {},
     "output_type": "execute_result"
    }
   ],
   "source": [
    "df_cut"
   ]
  },
  {
   "cell_type": "code",
   "execution_count": null,
   "id": "e78843e0",
   "metadata": {},
   "outputs": [
    {
     "data": {
      "text/plain": [
       "0    284315\n",
       "Name: Class, dtype: int64"
      ]
     },
     "execution_count": 77,
     "metadata": {},
     "output_type": "execute_result"
    }
   ],
   "source": [
    "df_class_zero = df[df['Class'] == 0]\n",
    "df_class_zero['Class'].value_counts()"
   ]
  },
  {
   "cell_type": "code",
   "execution_count": null,
   "id": "c8fb45d7",
   "metadata": {},
   "outputs": [
    {
     "data": {
      "text/plain": [
       "0    492\n",
       "Name: Class, dtype: int64"
      ]
     },
     "execution_count": 78,
     "metadata": {},
     "output_type": "execute_result"
    }
   ],
   "source": [
    "df_trash_bin = df_cut[df_cut['Class'] == 0].iloc[:492,:]\n",
    "df_trash_bin['Class'].value_counts()"
   ]
  },
  {
   "cell_type": "code",
   "execution_count": 79,
   "id": "c3b7bbfe",
   "metadata": {},
   "outputs": [
    {
     "data": {
      "text/plain": [
       "1    200\n",
       "Name: Class, dtype: int64"
      ]
     },
     "execution_count": 79,
     "metadata": {},
     "output_type": "execute_result"
    }
   ],
   "source": [
    "df_fraud = df[df['Class'] == 1].iloc[:200,:]\n",
    "df_fraud['Class'].value_counts()"
   ]
  },
  {
   "cell_type": "code",
   "execution_count": 80,
   "id": "7b73a4d0",
   "metadata": {},
   "outputs": [
    {
     "data": {
      "text/plain": [
       "0    492\n",
       "1    200\n",
       "Name: Class, dtype: int64"
      ]
     },
     "execution_count": 80,
     "metadata": {},
     "output_type": "execute_result"
    }
   ],
   "source": [
    "\n",
    "df_new_try = pd.concat([df_trash_bin, df_fraud], axis=0) \n",
    "\n",
    "df_new_try['Class'].value_counts()"
   ]
  },
  {
   "cell_type": "code",
   "execution_count": 81,
   "id": "a9a17ab2",
   "metadata": {},
   "outputs": [
    {
     "data": {
      "text/plain": [
       "0    284315\n",
       "1       291\n",
       "Name: Class, dtype: int64"
      ]
     },
     "execution_count": 81,
     "metadata": {},
     "output_type": "execute_result"
    }
   ],
   "source": [
    "df_class = pd.concat([df_class_zero, df[df['Class'] == 1].iloc[201:,:]], axis=0)\n",
    "df_class['Class'].value_counts()"
   ]
  },
  {
   "cell_type": "code",
   "execution_count": 82,
   "id": "50102be2",
   "metadata": {
    "scrolled": true
   },
   "outputs": [
    {
     "data": {
      "text/plain": [
       "0    228162\n",
       "1        38\n",
       "Name: Class, dtype: int64"
      ]
     },
     "execution_count": 82,
     "metadata": {},
     "output_type": "execute_result"
    }
   ],
   "source": [
    "df_cut['Class'].value_counts()"
   ]
  },
  {
   "cell_type": "markdown",
   "id": "49138ee2",
   "metadata": {},
   "source": [
    "* После избавления от аномалий, в нашем датасете стало на 100 тысяч объектов меньше"
   ]
  },
  {
   "cell_type": "code",
   "execution_count": 83,
   "id": "1fdd5e71",
   "metadata": {
    "scrolled": false
   },
   "outputs": [
    {
     "data": {
      "image/png": "[encoded data removed]",
      "text/plain": [
       "<Figure size 2000x2000 with 9 Axes>"
      ]
     },
     "metadata": {},
     "output_type": "display_data"
    }
   ],
   "source": [
    "df_cut.hist(figsize = (20, 20));"
   ]
  },
  {
   "cell_type": "code",
   "execution_count": 84,
   "id": "eb695fb6",
   "metadata": {
    "scrolled": true
   },
   "outputs": [
    {
     "data": {
      "text/plain": [
       "<AxesSubplot: >"
      ]
     },
     "execution_count": 84,
     "metadata": {},
     "output_type": "execute_result"
    },
    {
     "data": {
      "image/png": "[encoded data removed]",
      "text/plain": [
       "<Figure size 3300x3300 with 1 Axes>"
      ]
     },
     "metadata": {},
     "output_type": "display_data"
    }
   ],
   "source": [
    "df_cut['Class'].hist(figsize=(33,33))"
   ]
  },
  {
   "cell_type": "markdown",
   "id": "b0b8d122",
   "metadata": {},
   "source": [
    "* Присутствует явный дисбалланс классов"
   ]
  },
  {
   "cell_type": "markdown",
   "id": "750064e6",
   "metadata": {},
   "source": [
    "# Разбиение на тренировочную и тестовую выборку"
   ]
  },
  {
   "cell_type": "code",
   "execution_count": 58,
   "id": "88a4793f",
   "metadata": {},
   "outputs": [
    {
     "data": {
      "text/html": [
       "<div>\n",
       "<style scoped>\n",
       "    .dataframe tbody tr th:only-of-type {\n",
       "        vertical-align: middle;\n",
       "    }\n",
       "\n",
       "    .dataframe tbody tr th {\n",
       "        vertical-align: top;\n",
       "    }\n",
       "\n",
       "    .dataframe thead th {\n",
       "        text-align: right;\n",
       "    }\n",
       "</style>\n",
       "<table border=\"1\" class=\"dataframe\">\n",
       "  <thead>\n",
       "    <tr style=\"text-align: right;\">\n",
       "      <th></th>\n",
       "      <th>V17</th>\n",
       "      <th>V12</th>\n",
       "      <th>V14</th>\n",
       "      <th>V10</th>\n",
       "      <th>V11</th>\n",
       "      <th>V16</th>\n",
       "      <th>V18</th>\n",
       "      <th>V9</th>\n",
       "    </tr>\n",
       "  </thead>\n",
       "  <tbody>\n",
       "    <tr>\n",
       "      <th>265518</th>\n",
       "      <td>-0.765670</td>\n",
       "      <td>0.510277</td>\n",
       "      <td>-0.066555</td>\n",
       "      <td>-0.157403</td>\n",
       "      <td>-0.113729</td>\n",
       "      <td>0.352514</td>\n",
       "      <td>0.141938</td>\n",
       "      <td>1.406819</td>\n",
       "    </tr>\n",
       "    <tr>\n",
       "      <th>180305</th>\n",
       "      <td>-0.270842</td>\n",
       "      <td>0.325560</td>\n",
       "      <td>0.721068</td>\n",
       "      <td>0.284864</td>\n",
       "      <td>-0.254903</td>\n",
       "      <td>-0.754029</td>\n",
       "      <td>-0.695698</td>\n",
       "      <td>0.045826</td>\n",
       "    </tr>\n",
       "    <tr>\n",
       "      <th>42664</th>\n",
       "      <td>-0.724616</td>\n",
       "      <td>1.820161</td>\n",
       "      <td>0.122746</td>\n",
       "      <td>-2.009561</td>\n",
       "      <td>-0.386845</td>\n",
       "      <td>1.123344</td>\n",
       "      <td>0.147255</td>\n",
       "      <td>0.000772</td>\n",
       "    </tr>\n",
       "    <tr>\n",
       "      <th>198723</th>\n",
       "      <td>0.072781</td>\n",
       "      <td>-0.722450</td>\n",
       "      <td>-0.195288</td>\n",
       "      <td>1.756121</td>\n",
       "      <td>0.093136</td>\n",
       "      <td>-0.065888</td>\n",
       "      <td>0.768237</td>\n",
       "      <td>-1.118447</td>\n",
       "    </tr>\n",
       "    <tr>\n",
       "      <th>82325</th>\n",
       "      <td>-0.399525</td>\n",
       "      <td>-0.054708</td>\n",
       "      <td>0.134659</td>\n",
       "      <td>-0.558955</td>\n",
       "      <td>-0.251076</td>\n",
       "      <td>-2.096099</td>\n",
       "      <td>1.597589</td>\n",
       "      <td>-0.044782</td>\n",
       "    </tr>\n",
       "    <tr>\n",
       "      <th>...</th>\n",
       "      <td>...</td>\n",
       "      <td>...</td>\n",
       "      <td>...</td>\n",
       "      <td>...</td>\n",
       "      <td>...</td>\n",
       "      <td>...</td>\n",
       "      <td>...</td>\n",
       "      <td>...</td>\n",
       "    </tr>\n",
       "    <tr>\n",
       "      <th>233802</th>\n",
       "      <td>-0.906442</td>\n",
       "      <td>0.584204</td>\n",
       "      <td>0.062302</td>\n",
       "      <td>0.212619</td>\n",
       "      <td>0.319897</td>\n",
       "      <td>0.684356</td>\n",
       "      <td>0.739436</td>\n",
       "      <td>0.995898</td>\n",
       "    </tr>\n",
       "    <tr>\n",
       "      <th>85418</th>\n",
       "      <td>1.241541</td>\n",
       "      <td>0.373473</td>\n",
       "      <td>-0.401809</td>\n",
       "      <td>0.108640</td>\n",
       "      <td>0.521818</td>\n",
       "      <td>-1.879937</td>\n",
       "      <td>-2.623211</td>\n",
       "      <td>0.452745</td>\n",
       "    </tr>\n",
       "    <tr>\n",
       "      <th>29062</th>\n",
       "      <td>0.404795</td>\n",
       "      <td>0.445453</td>\n",
       "      <td>0.166727</td>\n",
       "      <td>-0.131553</td>\n",
       "      <td>-0.305690</td>\n",
       "      <td>-0.796913</td>\n",
       "      <td>-1.033061</td>\n",
       "      <td>0.319684</td>\n",
       "    </tr>\n",
       "    <tr>\n",
       "      <th>13766</th>\n",
       "      <td>-0.247970</td>\n",
       "      <td>-1.666023</td>\n",
       "      <td>1.799882</td>\n",
       "      <td>-0.268878</td>\n",
       "      <td>1.708922</td>\n",
       "      <td>0.705997</td>\n",
       "      <td>0.483059</td>\n",
       "      <td>1.111187</td>\n",
       "    </tr>\n",
       "    <tr>\n",
       "      <th>17677</th>\n",
       "      <td>0.517052</td>\n",
       "      <td>0.907240</td>\n",
       "      <td>-0.420510</td>\n",
       "      <td>-0.512312</td>\n",
       "      <td>-0.122119</td>\n",
       "      <td>-0.995150</td>\n",
       "      <td>-1.113362</td>\n",
       "      <td>-0.017496</td>\n",
       "    </tr>\n",
       "  </tbody>\n",
       "</table>\n",
       "<p>227845 rows × 8 columns</p>\n",
       "</div>"
      ],
      "text/plain": [
       "             V17       V12       V14       V10       V11       V16       V18  \\\n",
       "265518 -0.765670  0.510277 -0.066555 -0.157403 -0.113729  0.352514  0.141938   \n",
       "180305 -0.270842  0.325560  0.721068  0.284864 -0.254903 -0.754029 -0.695698   \n",
       "42664  -0.724616  1.820161  0.122746 -2.009561 -0.386845  1.123344  0.147255   \n",
       "198723  0.072781 -0.722450 -0.195288  1.756121  0.093136 -0.065888  0.768237   \n",
       "82325  -0.399525 -0.054708  0.134659 -0.558955 -0.251076 -2.096099  1.597589   \n",
       "...          ...       ...       ...       ...       ...       ...       ...   \n",
       "233802 -0.906442  0.584204  0.062302  0.212619  0.319897  0.684356  0.739436   \n",
       "85418   1.241541  0.373473 -0.401809  0.108640  0.521818 -1.879937 -2.623211   \n",
       "29062   0.404795  0.445453  0.166727 -0.131553 -0.305690 -0.796913 -1.033061   \n",
       "13766  -0.247970 -1.666023  1.799882 -0.268878  1.708922  0.705997  0.483059   \n",
       "17677   0.517052  0.907240 -0.420510 -0.512312 -0.122119 -0.995150 -1.113362   \n",
       "\n",
       "              V9  \n",
       "265518  1.406819  \n",
       "180305  0.045826  \n",
       "42664   0.000772  \n",
       "198723 -1.118447  \n",
       "82325  -0.044782  \n",
       "...          ...  \n",
       "233802  0.995898  \n",
       "85418   0.452745  \n",
       "29062   0.319684  \n",
       "13766   1.111187  \n",
       "17677  -0.017496  \n",
       "\n",
       "[227845 rows x 8 columns]"
      ]
     },
     "execution_count": 58,
     "metadata": {},
     "output_type": "execute_result"
    }
   ],
   "source": [
    "X_train"
   ]
  },
  {
   "cell_type": "code",
   "execution_count": 69,
   "id": "09fe89ee",
   "metadata": {},
   "outputs": [
    {
     "data": {
      "text/html": [
       "<div>\n",
       "<style scoped>\n",
       "    .dataframe tbody tr th:only-of-type {\n",
       "        vertical-align: middle;\n",
       "    }\n",
       "\n",
       "    .dataframe tbody tr th {\n",
       "        vertical-align: top;\n",
       "    }\n",
       "\n",
       "    .dataframe thead th {\n",
       "        text-align: right;\n",
       "    }\n",
       "</style>\n",
       "<table border=\"1\" class=\"dataframe\">\n",
       "  <thead>\n",
       "    <tr style=\"text-align: right;\">\n",
       "      <th></th>\n",
       "      <th>V17</th>\n",
       "      <th>V12</th>\n",
       "      <th>V14</th>\n",
       "      <th>V10</th>\n",
       "      <th>V11</th>\n",
       "      <th>V16</th>\n",
       "      <th>V18</th>\n",
       "      <th>V9</th>\n",
       "      <th>Class</th>\n",
       "    </tr>\n",
       "  </thead>\n",
       "  <tbody>\n",
       "    <tr>\n",
       "      <th>74794</th>\n",
       "      <td>0.536817</td>\n",
       "      <td>-0.814310</td>\n",
       "      <td>-0.831483</td>\n",
       "      <td>-0.049233</td>\n",
       "      <td>-0.153131</td>\n",
       "      <td>1.188907</td>\n",
       "      <td>-0.051403</td>\n",
       "      <td>0.887673</td>\n",
       "      <td>1</td>\n",
       "    </tr>\n",
       "    <tr>\n",
       "      <th>95534</th>\n",
       "      <td>-0.397246</td>\n",
       "      <td>1.375941</td>\n",
       "      <td>-0.819319</td>\n",
       "      <td>-0.371672</td>\n",
       "      <td>-0.245677</td>\n",
       "      <td>0.125853</td>\n",
       "      <td>0.272377</td>\n",
       "      <td>1.169425</td>\n",
       "      <td>1</td>\n",
       "    </tr>\n",
       "    <tr>\n",
       "      <th>124036</th>\n",
       "      <td>0.223887</td>\n",
       "      <td>-0.417898</td>\n",
       "      <td>-1.074999</td>\n",
       "      <td>-1.025335</td>\n",
       "      <td>1.500629</td>\n",
       "      <td>1.377769</td>\n",
       "      <td>1.311073</td>\n",
       "      <td>-0.133341</td>\n",
       "      <td>1</td>\n",
       "    </tr>\n",
       "    <tr>\n",
       "      <th>131272</th>\n",
       "      <td>0.306339</td>\n",
       "      <td>0.933216</td>\n",
       "      <td>0.521484</td>\n",
       "      <td>0.269562</td>\n",
       "      <td>1.293418</td>\n",
       "      <td>0.059869</td>\n",
       "      <td>0.265052</td>\n",
       "      <td>-1.242265</td>\n",
       "      <td>1</td>\n",
       "    </tr>\n",
       "    <tr>\n",
       "      <th>58761</th>\n",
       "      <td>0.705794</td>\n",
       "      <td>-0.818804</td>\n",
       "      <td>-0.994581</td>\n",
       "      <td>-0.552903</td>\n",
       "      <td>-0.668359</td>\n",
       "      <td>0.624003</td>\n",
       "      <td>0.524182</td>\n",
       "      <td>0.128119</td>\n",
       "      <td>1</td>\n",
       "    </tr>\n",
       "    <tr>\n",
       "      <th>108258</th>\n",
       "      <td>0.120608</td>\n",
       "      <td>-0.868686</td>\n",
       "      <td>1.027584</td>\n",
       "      <td>0.324239</td>\n",
       "      <td>-1.273935</td>\n",
       "      <td>0.256216</td>\n",
       "      <td>-0.052346</td>\n",
       "      <td>-1.232089</td>\n",
       "      <td>1</td>\n",
       "    </tr>\n",
       "    <tr>\n",
       "      <th>214775</th>\n",
       "      <td>-0.223768</td>\n",
       "      <td>-0.075707</td>\n",
       "      <td>1.065262</td>\n",
       "      <td>0.217630</td>\n",
       "      <td>0.253931</td>\n",
       "      <td>-0.911031</td>\n",
       "      <td>0.768370</td>\n",
       "      <td>0.756307</td>\n",
       "      <td>1</td>\n",
       "    </tr>\n",
       "    <tr>\n",
       "      <th>68633</th>\n",
       "      <td>-0.868183</td>\n",
       "      <td>0.687488</td>\n",
       "      <td>-0.007791</td>\n",
       "      <td>-0.045088</td>\n",
       "      <td>-0.876738</td>\n",
       "      <td>0.377154</td>\n",
       "      <td>-0.067135</td>\n",
       "      <td>-0.079512</td>\n",
       "      <td>1</td>\n",
       "    </tr>\n",
       "    <tr>\n",
       "      <th>254395</th>\n",
       "      <td>-0.828193</td>\n",
       "      <td>-0.973764</td>\n",
       "      <td>0.141332</td>\n",
       "      <td>1.081514</td>\n",
       "      <td>-1.514205</td>\n",
       "      <td>0.418268</td>\n",
       "      <td>-0.302239</td>\n",
       "      <td>-1.555142</td>\n",
       "      <td>1</td>\n",
       "    </tr>\n",
       "    <tr>\n",
       "      <th>55401</th>\n",
       "      <td>0.874891</td>\n",
       "      <td>-0.105359</td>\n",
       "      <td>-0.819902</td>\n",
       "      <td>-0.550545</td>\n",
       "      <td>1.480286</td>\n",
       "      <td>0.201151</td>\n",
       "      <td>0.941477</td>\n",
       "      <td>-0.765054</td>\n",
       "      <td>1</td>\n",
       "    </tr>\n",
       "    <tr>\n",
       "      <th>58422</th>\n",
       "      <td>0.327006</td>\n",
       "      <td>-0.787373</td>\n",
       "      <td>-0.126756</td>\n",
       "      <td>0.225934</td>\n",
       "      <td>-1.064534</td>\n",
       "      <td>-0.635322</td>\n",
       "      <td>0.043816</td>\n",
       "      <td>0.609133</td>\n",
       "      <td>1</td>\n",
       "    </tr>\n",
       "    <tr>\n",
       "      <th>56703</th>\n",
       "      <td>1.143130</td>\n",
       "      <td>0.654567</td>\n",
       "      <td>-1.043705</td>\n",
       "      <td>-0.585778</td>\n",
       "      <td>2.281939</td>\n",
       "      <td>0.399178</td>\n",
       "      <td>0.256014</td>\n",
       "      <td>-0.432111</td>\n",
       "      <td>1</td>\n",
       "    </tr>\n",
       "    <tr>\n",
       "      <th>27362</th>\n",
       "      <td>-0.219143</td>\n",
       "      <td>1.237773</td>\n",
       "      <td>0.038372</td>\n",
       "      <td>0.644550</td>\n",
       "      <td>1.120505</td>\n",
       "      <td>0.085406</td>\n",
       "      <td>-0.694259</td>\n",
       "      <td>-0.673598</td>\n",
       "      <td>1</td>\n",
       "    </tr>\n",
       "    <tr>\n",
       "      <th>91671</th>\n",
       "      <td>-0.057279</td>\n",
       "      <td>-0.613816</td>\n",
       "      <td>0.016087</td>\n",
       "      <td>-0.091353</td>\n",
       "      <td>-0.921052</td>\n",
       "      <td>-0.527141</td>\n",
       "      <td>0.448656</td>\n",
       "      <td>-0.431521</td>\n",
       "      <td>1</td>\n",
       "    </tr>\n",
       "    <tr>\n",
       "      <th>142557</th>\n",
       "      <td>-0.566390</td>\n",
       "      <td>0.023682</td>\n",
       "      <td>0.727242</td>\n",
       "      <td>-0.713474</td>\n",
       "      <td>1.274629</td>\n",
       "      <td>0.348038</td>\n",
       "      <td>0.216016</td>\n",
       "      <td>-0.546890</td>\n",
       "      <td>1</td>\n",
       "    </tr>\n",
       "    <tr>\n",
       "      <th>57248</th>\n",
       "      <td>0.601805</td>\n",
       "      <td>-0.460348</td>\n",
       "      <td>-1.168339</td>\n",
       "      <td>-0.433394</td>\n",
       "      <td>0.141179</td>\n",
       "      <td>0.882232</td>\n",
       "      <td>-0.304092</td>\n",
       "      <td>-1.275631</td>\n",
       "      <td>1</td>\n",
       "    </tr>\n",
       "    <tr>\n",
       "      <th>112840</th>\n",
       "      <td>0.570460</td>\n",
       "      <td>0.196887</td>\n",
       "      <td>-0.472026</td>\n",
       "      <td>0.334533</td>\n",
       "      <td>0.826375</td>\n",
       "      <td>-1.243007</td>\n",
       "      <td>-0.159057</td>\n",
       "      <td>1.014602</td>\n",
       "      <td>1</td>\n",
       "    </tr>\n",
       "    <tr>\n",
       "      <th>52521</th>\n",
       "      <td>1.132160</td>\n",
       "      <td>-0.567380</td>\n",
       "      <td>-1.381214</td>\n",
       "      <td>-0.792938</td>\n",
       "      <td>-0.984172</td>\n",
       "      <td>0.279890</td>\n",
       "      <td>0.092993</td>\n",
       "      <td>0.580415</td>\n",
       "      <td>1</td>\n",
       "    </tr>\n",
       "    <tr>\n",
       "      <th>118308</th>\n",
       "      <td>0.278142</td>\n",
       "      <td>-0.664684</td>\n",
       "      <td>-0.660968</td>\n",
       "      <td>-1.039638</td>\n",
       "      <td>-0.395608</td>\n",
       "      <td>0.530852</td>\n",
       "      <td>0.355530</td>\n",
       "      <td>-0.492856</td>\n",
       "      <td>1</td>\n",
       "    </tr>\n",
       "    <tr>\n",
       "      <th>222419</th>\n",
       "      <td>-0.798201</td>\n",
       "      <td>-0.240056</td>\n",
       "      <td>0.139567</td>\n",
       "      <td>0.955004</td>\n",
       "      <td>-1.702228</td>\n",
       "      <td>0.372379</td>\n",
       "      <td>-0.697062</td>\n",
       "      <td>-1.695822</td>\n",
       "      <td>1</td>\n",
       "    </tr>\n",
       "    <tr>\n",
       "      <th>249239</th>\n",
       "      <td>-0.052419</td>\n",
       "      <td>0.979675</td>\n",
       "      <td>0.984993</td>\n",
       "      <td>-1.134454</td>\n",
       "      <td>0.713878</td>\n",
       "      <td>-0.934616</td>\n",
       "      <td>0.511162</td>\n",
       "      <td>1.519743</td>\n",
       "      <td>1</td>\n",
       "    </tr>\n",
       "    <tr>\n",
       "      <th>191074</th>\n",
       "      <td>-0.391051</td>\n",
       "      <td>-0.540535</td>\n",
       "      <td>0.712541</td>\n",
       "      <td>-0.084500</td>\n",
       "      <td>-1.542305</td>\n",
       "      <td>-0.907666</td>\n",
       "      <td>-0.034719</td>\n",
       "      <td>0.095186</td>\n",
       "      <td>1</td>\n",
       "    </tr>\n",
       "  </tbody>\n",
       "</table>\n",
       "</div>"
      ],
      "text/plain": [
       "             V17       V12       V14       V10       V11       V16       V18  \\\n",
       "74794   0.536817 -0.814310 -0.831483 -0.049233 -0.153131  1.188907 -0.051403   \n",
       "95534  -0.397246  1.375941 -0.819319 -0.371672 -0.245677  0.125853  0.272377   \n",
       "124036  0.223887 -0.417898 -1.074999 -1.025335  1.500629  1.377769  1.311073   \n",
       "131272  0.306339  0.933216  0.521484  0.269562  1.293418  0.059869  0.265052   \n",
       "58761   0.705794 -0.818804 -0.994581 -0.552903 -0.668359  0.624003  0.524182   \n",
       "108258  0.120608 -0.868686  1.027584  0.324239 -1.273935  0.256216 -0.052346   \n",
       "214775 -0.223768 -0.075707  1.065262  0.217630  0.253931 -0.911031  0.768370   \n",
       "68633  -0.868183  0.687488 -0.007791 -0.045088 -0.876738  0.377154 -0.067135   \n",
       "254395 -0.828193 -0.973764  0.141332  1.081514 -1.514205  0.418268 -0.302239   \n",
       "55401   0.874891 -0.105359 -0.819902 -0.550545  1.480286  0.201151  0.941477   \n",
       "58422   0.327006 -0.787373 -0.126756  0.225934 -1.064534 -0.635322  0.043816   \n",
       "56703   1.143130  0.654567 -1.043705 -0.585778  2.281939  0.399178  0.256014   \n",
       "27362  -0.219143  1.237773  0.038372  0.644550  1.120505  0.085406 -0.694259   \n",
       "91671  -0.057279 -0.613816  0.016087 -0.091353 -0.921052 -0.527141  0.448656   \n",
       "142557 -0.566390  0.023682  0.727242 -0.713474  1.274629  0.348038  0.216016   \n",
       "57248   0.601805 -0.460348 -1.168339 -0.433394  0.141179  0.882232 -0.304092   \n",
       "112840  0.570460  0.196887 -0.472026  0.334533  0.826375 -1.243007 -0.159057   \n",
       "52521   1.132160 -0.567380 -1.381214 -0.792938 -0.984172  0.279890  0.092993   \n",
       "118308  0.278142 -0.664684 -0.660968 -1.039638 -0.395608  0.530852  0.355530   \n",
       "222419 -0.798201 -0.240056  0.139567  0.955004 -1.702228  0.372379 -0.697062   \n",
       "249239 -0.052419  0.979675  0.984993 -1.134454  0.713878 -0.934616  0.511162   \n",
       "191074 -0.391051 -0.540535  0.712541 -0.084500 -1.542305 -0.907666 -0.034719   \n",
       "\n",
       "              V9  Class  \n",
       "74794   0.887673      1  \n",
       "95534   1.169425      1  \n",
       "124036 -0.133341      1  \n",
       "131272 -1.242265      1  \n",
       "58761   0.128119      1  \n",
       "108258 -1.232089      1  \n",
       "214775  0.756307      1  \n",
       "68633  -0.079512      1  \n",
       "254395 -1.555142      1  \n",
       "55401  -0.765054      1  \n",
       "58422   0.609133      1  \n",
       "56703  -0.432111      1  \n",
       "27362  -0.673598      1  \n",
       "91671  -0.431521      1  \n",
       "142557 -0.546890      1  \n",
       "57248  -1.275631      1  \n",
       "112840  1.014602      1  \n",
       "52521   0.580415      1  \n",
       "118308 -0.492856      1  \n",
       "222419 -1.695822      1  \n",
       "249239  1.519743      1  \n",
       "191074  0.095186      1  "
      ]
     },
     "execution_count": 69,
     "metadata": {},
     "output_type": "execute_result"
    }
   ],
   "source": [
    "\n",
    "df_train[df_train.Class == 1]"
   ]
  },
  {
   "cell_type": "code",
   "execution_count": 66,
   "id": "73f210c9",
   "metadata": {},
   "outputs": [],
   "source": [
    "X_train = df_train.iloc[:,:-1]\n",
    "y_train = df_train.iloc[:,-1]"
   ]
  },
  {
   "cell_type": "code",
   "execution_count": 175,
   "id": "b9441f2a",
   "metadata": {},
   "outputs": [
    {
     "data": {
      "text/plain": [
       "0    190490\n",
       "1       330\n",
       "Name: Class, dtype: int64"
      ]
     },
     "execution_count": 175,
     "metadata": {},
     "output_type": "execute_result"
    }
   ],
   "source": [
    "\n",
    "random_state = 42\n",
    "\n",
    "X_train, X_test, y_train, y_test = train_test_split(\n",
    "    df.iloc[:,:-1], df.iloc[:,-1], \n",
    "    stratify=df.iloc[:,-1], random_state=random_state, \n",
    "    test_size=0.33)\n",
    "\n",
    "y_train.value_counts()"
   ]
  },
  {
   "cell_type": "code",
   "execution_count": 174,
   "id": "279745c7",
   "metadata": {},
   "outputs": [
    {
     "data": {
      "text/plain": [
       "0    329\n",
       "1    134\n",
       "Name: Class, dtype: int64"
      ]
     },
     "execution_count": 174,
     "metadata": {},
     "output_type": "execute_result"
    }
   ],
   "source": [
    "\n",
    "random_state = 42\n",
    "\n",
    "X_train, X_test, y_train, y_test = train_test_split(\n",
    "    df_new_try.iloc[:,:-1], df_new_try.iloc[:,-1], \n",
    "    stratify=df_new_try.iloc[:,-1], random_state=random_state, \n",
    "    test_size=0.33)\n",
    "\n",
    "y_train.value_counts()"
   ]
  },
  {
   "cell_type": "code",
   "execution_count": 88,
   "id": "f54a63c3",
   "metadata": {
    "scrolled": true
   },
   "outputs": [
    {
     "data": {
      "text/html": [
       "<div>\n",
       "<style scoped>\n",
       "    .dataframe tbody tr th:only-of-type {\n",
       "        vertical-align: middle;\n",
       "    }\n",
       "\n",
       "    .dataframe tbody tr th {\n",
       "        vertical-align: top;\n",
       "    }\n",
       "\n",
       "    .dataframe thead th {\n",
       "        text-align: right;\n",
       "    }\n",
       "</style>\n",
       "<table border=\"1\" class=\"dataframe\">\n",
       "  <thead>\n",
       "    <tr style=\"text-align: right;\">\n",
       "      <th></th>\n",
       "      <th>V17</th>\n",
       "      <th>V12</th>\n",
       "      <th>V14</th>\n",
       "      <th>V10</th>\n",
       "      <th>V11</th>\n",
       "      <th>V16</th>\n",
       "      <th>V18</th>\n",
       "      <th>V9</th>\n",
       "    </tr>\n",
       "  </thead>\n",
       "  <tbody>\n",
       "    <tr>\n",
       "      <th>0</th>\n",
       "      <td>0.207971</td>\n",
       "      <td>-0.617801</td>\n",
       "      <td>-0.311169</td>\n",
       "      <td>0.090794</td>\n",
       "      <td>-0.551600</td>\n",
       "      <td>-0.470401</td>\n",
       "      <td>0.025791</td>\n",
       "      <td>0.363787</td>\n",
       "    </tr>\n",
       "    <tr>\n",
       "      <th>1</th>\n",
       "      <td>-0.114805</td>\n",
       "      <td>1.065235</td>\n",
       "      <td>-0.143772</td>\n",
       "      <td>-0.166974</td>\n",
       "      <td>1.612727</td>\n",
       "      <td>0.463917</td>\n",
       "      <td>-0.183361</td>\n",
       "      <td>-0.255425</td>\n",
       "    </tr>\n",
       "    <tr>\n",
       "      <th>4</th>\n",
       "      <td>-0.237033</td>\n",
       "      <td>0.538196</td>\n",
       "      <td>-1.119670</td>\n",
       "      <td>0.753074</td>\n",
       "      <td>-0.822843</td>\n",
       "      <td>-0.451449</td>\n",
       "      <td>-0.038195</td>\n",
       "      <td>0.817739</td>\n",
       "    </tr>\n",
       "    <tr>\n",
       "      <th>5</th>\n",
       "      <td>-0.058133</td>\n",
       "      <td>0.359894</td>\n",
       "      <td>-0.137134</td>\n",
       "      <td>-0.371407</td>\n",
       "      <td>1.341262</td>\n",
       "      <td>0.401726</td>\n",
       "      <td>0.068653</td>\n",
       "      <td>-0.568671</td>\n",
       "    </tr>\n",
       "    <tr>\n",
       "      <th>6</th>\n",
       "      <td>0.002821</td>\n",
       "      <td>-0.153826</td>\n",
       "      <td>0.167372</td>\n",
       "      <td>-0.099254</td>\n",
       "      <td>-1.416907</td>\n",
       "      <td>-0.443587</td>\n",
       "      <td>-0.611987</td>\n",
       "      <td>0.464960</td>\n",
       "    </tr>\n",
       "    <tr>\n",
       "      <th>...</th>\n",
       "      <td>...</td>\n",
       "      <td>...</td>\n",
       "      <td>...</td>\n",
       "      <td>...</td>\n",
       "      <td>...</td>\n",
       "      <td>...</td>\n",
       "      <td>...</td>\n",
       "      <td>...</td>\n",
       "    </tr>\n",
       "    <tr>\n",
       "      <th>79883</th>\n",
       "      <td>-4.826246</td>\n",
       "      <td>-3.570394</td>\n",
       "      <td>-3.988415</td>\n",
       "      <td>-3.393553</td>\n",
       "      <td>3.128440</td>\n",
       "      <td>-2.843785</td>\n",
       "      <td>-0.703883</td>\n",
       "      <td>-2.329629</td>\n",
       "    </tr>\n",
       "    <tr>\n",
       "      <th>80760</th>\n",
       "      <td>-6.131887</td>\n",
       "      <td>-4.226225</td>\n",
       "      <td>-4.710498</td>\n",
       "      <td>-4.170623</td>\n",
       "      <td>3.762306</td>\n",
       "      <td>-4.739084</td>\n",
       "      <td>-2.425871</td>\n",
       "      <td>-1.362198</td>\n",
       "    </tr>\n",
       "    <tr>\n",
       "      <th>81186</th>\n",
       "      <td>-9.874560</td>\n",
       "      <td>-6.848978</td>\n",
       "      <td>-7.460103</td>\n",
       "      <td>-3.288204</td>\n",
       "      <td>2.886091</td>\n",
       "      <td>-4.334783</td>\n",
       "      <td>-3.541903</td>\n",
       "      <td>-1.977593</td>\n",
       "    </tr>\n",
       "    <tr>\n",
       "      <th>81609</th>\n",
       "      <td>-4.460495</td>\n",
       "      <td>-2.718731</td>\n",
       "      <td>-5.586873</td>\n",
       "      <td>-4.350685</td>\n",
       "      <td>3.064246</td>\n",
       "      <td>-2.502049</td>\n",
       "      <td>-0.870526</td>\n",
       "      <td>-0.802005</td>\n",
       "    </tr>\n",
       "    <tr>\n",
       "      <th>82400</th>\n",
       "      <td>-4.442082</td>\n",
       "      <td>-2.210691</td>\n",
       "      <td>-5.281678</td>\n",
       "      <td>-4.001742</td>\n",
       "      <td>2.611762</td>\n",
       "      <td>-2.342178</td>\n",
       "      <td>-0.812202</td>\n",
       "      <td>-0.599509</td>\n",
       "    </tr>\n",
       "  </tbody>\n",
       "</table>\n",
       "<p>692 rows × 8 columns</p>\n",
       "</div>"
      ],
      "text/plain": [
       "            V17       V12       V14       V10       V11       V16       V18  \\\n",
       "0      0.207971 -0.617801 -0.311169  0.090794 -0.551600 -0.470401  0.025791   \n",
       "1     -0.114805  1.065235 -0.143772 -0.166974  1.612727  0.463917 -0.183361   \n",
       "4     -0.237033  0.538196 -1.119670  0.753074 -0.822843 -0.451449 -0.038195   \n",
       "5     -0.058133  0.359894 -0.137134 -0.371407  1.341262  0.401726  0.068653   \n",
       "6      0.002821 -0.153826  0.167372 -0.099254 -1.416907 -0.443587 -0.611987   \n",
       "...         ...       ...       ...       ...       ...       ...       ...   \n",
       "79883 -4.826246 -3.570394 -3.988415 -3.393553  3.128440 -2.843785 -0.703883   \n",
       "80760 -6.131887 -4.226225 -4.710498 -4.170623  3.762306 -4.739084 -2.425871   \n",
       "81186 -9.874560 -6.848978 -7.460103 -3.288204  2.886091 -4.334783 -3.541903   \n",
       "81609 -4.460495 -2.718731 -5.586873 -4.350685  3.064246 -2.502049 -0.870526   \n",
       "82400 -4.442082 -2.210691 -5.281678 -4.001742  2.611762 -2.342178 -0.812202   \n",
       "\n",
       "             V9  \n",
       "0      0.363787  \n",
       "1     -0.255425  \n",
       "4      0.817739  \n",
       "5     -0.568671  \n",
       "6      0.464960  \n",
       "...         ...  \n",
       "79883 -2.329629  \n",
       "80760 -1.362198  \n",
       "81186 -1.977593  \n",
       "81609 -0.802005  \n",
       "82400 -0.599509  \n",
       "\n",
       "[692 rows x 8 columns]"
      ]
     },
     "execution_count": 88,
     "metadata": {},
     "output_type": "execute_result"
    }
   ],
   "source": [
    "X_train, X_test, y_train, y_test = df_new_try.iloc[:,:-1], df_class.iloc[:,:-1], df_new_try.iloc[:,-1], df_class.iloc[:,-1]\n",
    "X_train"
   ]
  },
  {
   "cell_type": "code",
   "execution_count": 60,
   "id": "a0642379",
   "metadata": {},
   "outputs": [],
   "source": [
    "def pipeline(model, weight=None):\n",
    "    if weight is not None:\n",
    "        model.fit(X_train, y_train, sample_weight=weight)\n",
    "    else:\n",
    "        model.fit(X_train, y_train)\n",
    "    y_pred = model.predict(X_test)\n",
    "    # Summary of the predictions made by the classifier\n",
    "    print(classification_report(y_test, y_pred))\n",
    "    return roc_auc_score(y_test, y_pred)"
   ]
  },
  {
   "cell_type": "code",
   "execution_count": 194,
   "id": "dd22ba99",
   "metadata": {},
   "outputs": [],
   "source": [
    "from sklearn.utils import class_weight\n",
    "import numpy as np\n",
    "class_weights = class_weight.compute_class_weight('balanced', classes=np.unique(y_train), y=y_train)\n"
   ]
  },
  {
   "cell_type": "code",
   "execution_count": 201,
   "id": "3fb9048e",
   "metadata": {},
   "outputs": [
    {
     "data": {
      "text/plain": [
       "0    190490\n",
       "1       330\n",
       "Name: Class, dtype: int64"
      ]
     },
     "execution_count": 201,
     "metadata": {},
     "output_type": "execute_result"
    }
   ],
   "source": [
    "y_train.value_counts()"
   ]
  },
  {
   "cell_type": "code",
   "execution_count": 64,
   "id": "370ac421",
   "metadata": {},
   "outputs": [
    {
     "name": "stdout",
     "output_type": "stream",
     "text": [
      "              precision    recall  f1-score   support\n",
      "\n",
      "           0       1.00      1.00      1.00     56864\n",
      "           1       0.00      0.00      0.00        98\n",
      "\n",
      "    accuracy                           1.00     56962\n",
      "   macro avg       0.50      0.50      0.50     56962\n",
      "weighted avg       1.00      1.00      1.00     56962\n",
      "\n",
      "Class      0   1\n",
      "row_0           \n",
      "0      56856  98\n",
      "1          8   0\n",
      "[[56856     8]\n",
      " [   98     0]]\n"
     ]
    },
    {
     "data": {
      "text/html": [
       "<style>#sk-container-id-2 {color: black;background-color: white;}#sk-container-id-2 pre{padding: 0;}#sk-container-id-2 div.sk-toggleable {background-color: white;}#sk-container-id-2 label.sk-toggleable__label {cursor: pointer;display: block;width: 100%;margin-bottom: 0;padding: 0.3em;box-sizing: border-box;text-align: center;}#sk-container-id-2 label.sk-toggleable__label-arrow:before {content: \"▸\";float: left;margin-right: 0.25em;color: #696969;}#sk-container-id-2 label.sk-toggleable__label-arrow:hover:before {color: black;}#sk-container-id-2 div.sk-estimator:hover label.sk-toggleable__label-arrow:before {color: black;}#sk-container-id-2 div.sk-toggleable__content {max-height: 0;max-width: 0;overflow: hidden;text-align: left;background-color: #f0f8ff;}#sk-container-id-2 div.sk-toggleable__content pre {margin: 0.2em;color: black;border-radius: 0.25em;background-color: #f0f8ff;}#sk-container-id-2 input.sk-toggleable__control:checked~div.sk-toggleable__content {max-height: 200px;max-width: 100%;overflow: auto;}#sk-container-id-2 input.sk-toggleable__control:checked~label.sk-toggleable__label-arrow:before {content: \"▾\";}#sk-container-id-2 div.sk-estimator input.sk-toggleable__control:checked~label.sk-toggleable__label {background-color: #d4ebff;}#sk-container-id-2 div.sk-label input.sk-toggleable__control:checked~label.sk-toggleable__label {background-color: #d4ebff;}#sk-container-id-2 input.sk-hidden--visually {border: 0;clip: rect(1px 1px 1px 1px);clip: rect(1px, 1px, 1px, 1px);height: 1px;margin: -1px;overflow: hidden;padding: 0;position: absolute;width: 1px;}#sk-container-id-2 div.sk-estimator {font-family: monospace;background-color: #f0f8ff;border: 1px dotted black;border-radius: 0.25em;box-sizing: border-box;margin-bottom: 0.5em;}#sk-container-id-2 div.sk-estimator:hover {background-color: #d4ebff;}#sk-container-id-2 div.sk-parallel-item::after {content: \"\";width: 100%;border-bottom: 1px solid gray;flex-grow: 1;}#sk-container-id-2 div.sk-label:hover label.sk-toggleable__label {background-color: #d4ebff;}#sk-container-id-2 div.sk-serial::before {content: \"\";position: absolute;border-left: 1px solid gray;box-sizing: border-box;top: 0;bottom: 0;left: 50%;z-index: 0;}#sk-container-id-2 div.sk-serial {display: flex;flex-direction: column;align-items: center;background-color: white;padding-right: 0.2em;padding-left: 0.2em;position: relative;}#sk-container-id-2 div.sk-item {position: relative;z-index: 1;}#sk-container-id-2 div.sk-parallel {display: flex;align-items: stretch;justify-content: center;background-color: white;position: relative;}#sk-container-id-2 div.sk-item::before, #sk-container-id-2 div.sk-parallel-item::before {content: \"\";position: absolute;border-left: 1px solid gray;box-sizing: border-box;top: 0;bottom: 0;left: 50%;z-index: -1;}#sk-container-id-2 div.sk-parallel-item {display: flex;flex-direction: column;z-index: 1;position: relative;background-color: white;}#sk-container-id-2 div.sk-parallel-item:first-child::after {align-self: flex-end;width: 50%;}#sk-container-id-2 div.sk-parallel-item:last-child::after {align-self: flex-start;width: 50%;}#sk-container-id-2 div.sk-parallel-item:only-child::after {width: 0;}#sk-container-id-2 div.sk-dashed-wrapped {border: 1px dashed gray;margin: 0 0.4em 0.5em 0.4em;box-sizing: border-box;padding-bottom: 0.4em;background-color: white;}#sk-container-id-2 div.sk-label label {font-family: monospace;font-weight: bold;display: inline-block;line-height: 1.2em;}#sk-container-id-2 div.sk-label-container {text-align: center;}#sk-container-id-2 div.sk-container {/* jupyter's `normalize.less` sets `[hidden] { display: none; }` but bootstrap.min.css set `[hidden] { display: none !important; }` so we also need the `!important` here to be able to override the default hidden behavior on the sphinx rendered scikit-learn.org. See: https://github.com/scikit-learn/scikit-learn/issues/21755 */display: inline-block !important;position: relative;}#sk-container-id-2 div.sk-text-repr-fallback {display: none;}</style><div id=\"sk-container-id-2\" class=\"sk-top-container\"><div class=\"sk-text-repr-fallback\"><pre>DecisionTreeClassifier(max_depth=5, random_state=42)</pre><b>In a Jupyter environment, please rerun this cell to show the HTML representation or trust the notebook. <br />On GitHub, the HTML representation is unable to render, please try loading this page with nbviewer.org.</b></div><div class=\"sk-container\" hidden><div class=\"sk-item\"><div class=\"sk-estimator sk-toggleable\"><input class=\"sk-toggleable__control sk-hidden--visually\" id=\"sk-estimator-id-2\" type=\"checkbox\" checked><label for=\"sk-estimator-id-2\" class=\"sk-toggleable__label sk-toggleable__label-arrow\">DecisionTreeClassifier</label><div class=\"sk-toggleable__content\"><pre>DecisionTreeClassifier(max_depth=5, random_state=42)</pre></div></div></div></div></div>"
      ],
      "text/plain": [
       "DecisionTreeClassifier(max_depth=5, random_state=42)"
      ]
     },
     "execution_count": 64,
     "metadata": {},
     "output_type": "execute_result"
    }
   ],
   "source": [
    "from sklearn.tree import DecisionTreeClassifier\n",
    "clf = DecisionTreeClassifier(max_depth=5, random_state=42)\n",
    "pipeline(clf)\n",
    "#fit the model using class weights\n",
    "clf.fit(X_train, y_train)#, sample_weight=class_weights)"
   ]
  },
  {
   "cell_type": "code",
   "execution_count": 189,
   "id": "73e7dd1c",
   "metadata": {},
   "outputs": [
    {
     "name": "stdout",
     "output_type": "stream",
     "text": [
      "              precision    recall  f1-score   support\n",
      "\n",
      "           0       1.00      1.00      1.00     93825\n",
      "           1       0.71      0.67      0.69       162\n",
      "\n",
      "    accuracy                           1.00     93987\n",
      "   macro avg       0.85      0.83      0.84     93987\n",
      "weighted avg       1.00      1.00      1.00     93987\n",
      "\n",
      "Class      0    1\n",
      "row_0            \n",
      "0      93780   54\n",
      "1         45  108\n",
      "[[93780    45]\n",
      " [   54   108]]\n"
     ]
    },
    {
     "data": {
      "text/plain": [
       "0.833093525179856"
      ]
     },
     "execution_count": 189,
     "metadata": {},
     "output_type": "execute_result"
    }
   ],
   "source": [
    "from sklearn.ensemble import GradientBoostingClassifier\n",
    "clf = GradientBoostingClassifier(n_estimators=10, learning_rate=1.0,\n",
    "    max_depth=1, random_state=0)\n",
    "pipeline(clf)"
   ]
  },
  {
   "cell_type": "markdown",
   "id": "a90ce1b2",
   "metadata": {},
   "source": [
    "# Попробую нейронку\n"
   ]
  },
  {
   "cell_type": "code",
   "execution_count": 61,
   "id": "5dbbaa9e",
   "metadata": {},
   "outputs": [
    {
     "name": "stdout",
     "output_type": "stream",
     "text": [
      "              precision    recall  f1-score   support\n",
      "\n",
      "           0       1.00      1.00      1.00     56864\n",
      "           1       0.00      0.00      0.00        98\n",
      "\n",
      "    accuracy                           1.00     56962\n",
      "   macro avg       0.50      0.50      0.50     56962\n",
      "weighted avg       1.00      1.00      1.00     56962\n",
      "\n",
      "Class      0   1\n",
      "row_0           \n",
      "0      56864  98\n",
      "[[56864     0]\n",
      " [   98     0]]\n"
     ]
    },
    {
     "data": {
      "text/plain": [
       "0.5"
      ]
     },
     "execution_count": 61,
     "metadata": {},
     "output_type": "execute_result"
    }
   ],
   "source": [
    "kNN = KNeighborsClassifier(n_neighbors=5,n_jobs=4)\n",
    "pipeline(kNN)"
   ]
  },
  {
   "cell_type": "code",
   "execution_count": 96,
   "id": "7174b502",
   "metadata": {},
   "outputs": [
    {
     "name": "stdout",
     "output_type": "stream",
     "text": [
      "              precision    recall  f1-score   support\n",
      "\n",
      "           0       1.00      0.91      0.95    284315\n",
      "           1       0.01      0.90      0.02       291\n",
      "\n",
      "    accuracy                           0.91    284606\n",
      "   macro avg       0.50      0.90      0.49    284606\n",
      "weighted avg       1.00      0.91      0.95    284606\n",
      "\n",
      "Class       0    1\n",
      "row_0             \n",
      "0      258421   30\n",
      "1       25894  261\n",
      "[[258421  25894]\n",
      " [    30    261]]\n"
     ]
    },
    {
     "data": {
      "text/plain": [
       "0.9029160882432019"
      ]
     },
     "execution_count": 96,
     "metadata": {},
     "output_type": "execute_result"
    }
   ],
   "source": [
    "RF=RandomForestClassifier(n_estimators=25, random_state=3)\n",
    "pipeline(RF)"
   ]
  },
  {
   "cell_type": "code",
   "execution_count": 111,
   "id": "07de3bbe",
   "metadata": {},
   "outputs": [
    {
     "name": "stdout",
     "output_type": "stream",
     "text": [
      "              precision    recall  f1-score   support\n",
      "\n",
      "           0       1.00      0.90      0.95    284315\n",
      "           1       0.01      0.91      0.02       291\n",
      "\n",
      "    accuracy                           0.90    284606\n",
      "   macro avg       0.50      0.91      0.48    284606\n",
      "weighted avg       1.00      0.90      0.95    284606\n",
      "\n",
      "Class       0    1\n",
      "row_0             \n",
      "0      257261   27\n",
      "1       27054  264\n",
      "[[257261  27054]\n",
      " [    27    264]]\n"
     ]
    },
    {
     "data": {
      "text/plain": [
       "0.9060307365632463"
      ]
     },
     "execution_count": 111,
     "metadata": {},
     "output_type": "execute_result"
    }
   ],
   "source": [
    "from sklearn import tree\n",
    "treee = tree.DecisionTreeClassifier(max_depth=4)\n",
    "pipeline(treee)\n"
   ]
  },
  {
   "cell_type": "code",
   "execution_count": 71,
   "id": "6f65e6ae",
   "metadata": {
    "collapsed": true
   },
   "outputs": [
    {
     "data": {
      "image/svg+xml": "<?xml version=\"1.0\" encoding=\"UTF-8\" standalone=\"no\"?>\r\n<!DOCTYPE svg PUBLIC \"-//W3C//DTD SVG 1.1//EN\"\r\n \"http://www.w3.org/Graphics/SVG/1.1/DTD/svg11.dtd\">\r\n<!-- Generated by graphviz version 2.38.0 (20140413.2041)\r\n -->\r\n<!-- Title: Tree Pages: 1 -->\r\n<svg width=\"980pt\" height=\"671pt\"\r\n viewBox=\"0.00 0.00 980.00 671.00\" xmlns=\"http://www.w3.org/2000/svg\" xmlns:xlink=\"http://www.w3.org/1999/xlink\">\r\n<g id=\"graph0\" class=\"graph\" transform=\"scale(1 1) rotate(0) translate(4 667)\">\r\n<title>Tree</title>\r\n<polygon fill=\"white\" stroke=\"none\" points=\"-4,4 -4,-667 976,-667 976,4 -4,4\"/>\r\n<!-- 0 -->\r\n<g id=\"node1\" class=\"node\"><title>0</title>\r\n<path fill=\"#e58139\" stroke=\"black\" d=\"M625,-663C625,-663 503,-663 503,-663 497,-663 491,-657 491,-651 491,-651 491,-592 491,-592 491,-586 497,-580 503,-580 503,-580 625,-580 625,-580 631,-580 637,-586 637,-592 637,-592 637,-651 637,-651 637,-657 631,-663 625,-663\"/>\r\n<text text-anchor=\"start\" x=\"529\" y=\"-647.8\" font-family=\"Helvetica,sans-Serif\" font-size=\"14.00\">V11 ≤ 2.28</text>\r\n<text text-anchor=\"start\" x=\"535\" y=\"-632.8\" font-family=\"Helvetica,sans-Serif\" font-size=\"14.00\">gini = 0.0</text>\r\n<text text-anchor=\"start\" x=\"504\" y=\"-617.8\" font-family=\"Helvetica,sans-Serif\" font-size=\"14.00\">samples = 150091</text>\r\n<text text-anchor=\"start\" x=\"499\" y=\"-602.8\" font-family=\"Helvetica,sans-Serif\" font-size=\"14.00\">value = [150069, 22]</text>\r\n<text text-anchor=\"start\" x=\"535\" y=\"-587.8\" font-family=\"Helvetica,sans-Serif\" font-size=\"14.00\">class = 0</text>\r\n</g>\r\n<!-- 1 -->\r\n<g id=\"node2\" class=\"node\"><title>1</title>\r\n<path fill=\"#e58139\" stroke=\"black\" d=\"M551,-544C551,-544 429,-544 429,-544 423,-544 417,-538 417,-532 417,-532 417,-473 417,-473 417,-467 423,-461 429,-461 429,-461 551,-461 551,-461 557,-461 563,-467 563,-473 563,-473 563,-532 563,-532 563,-538 557,-544 551,-544\"/>\r\n<text text-anchor=\"start\" x=\"448.5\" y=\"-528.8\" font-family=\"Helvetica,sans-Serif\" font-size=\"14.00\">V12 ≤ &#45;0.418</text>\r\n<text text-anchor=\"start\" x=\"461\" y=\"-513.8\" font-family=\"Helvetica,sans-Serif\" font-size=\"14.00\">gini = 0.0</text>\r\n<text text-anchor=\"start\" x=\"430\" y=\"-498.8\" font-family=\"Helvetica,sans-Serif\" font-size=\"14.00\">samples = 149955</text>\r\n<text text-anchor=\"start\" x=\"425\" y=\"-483.8\" font-family=\"Helvetica,sans-Serif\" font-size=\"14.00\">value = [149934, 21]</text>\r\n<text text-anchor=\"start\" x=\"461\" y=\"-468.8\" font-family=\"Helvetica,sans-Serif\" font-size=\"14.00\">class = 0</text>\r\n</g>\r\n<!-- 0&#45;&gt;1 -->\r\n<g id=\"edge1\" class=\"edge\"><title>0&#45;&gt;1</title>\r\n<path fill=\"none\" stroke=\"black\" d=\"M538.326,-579.907C532.758,-571.105 526.812,-561.703 521.062,-552.612\"/>\r\n<polygon fill=\"black\" stroke=\"black\" points=\"523.932,-550.601 515.629,-544.021 518.016,-554.343 523.932,-550.601\"/>\r\n<text text-anchor=\"middle\" x=\"510.138\" y=\"-564.71\" font-family=\"Helvetica,sans-Serif\" font-size=\"14.00\">True</text>\r\n</g>\r\n<!-- 20 -->\r\n<g id=\"node21\" class=\"node\"><title>20</title>\r\n<path fill=\"#e5823a\" stroke=\"black\" d=\"M682.5,-544C682.5,-544 593.5,-544 593.5,-544 587.5,-544 581.5,-538 581.5,-532 581.5,-532 581.5,-473 581.5,-473 581.5,-467 587.5,-461 593.5,-461 593.5,-461 682.5,-461 682.5,-461 688.5,-461 694.5,-467 694.5,-473 694.5,-473 694.5,-532 694.5,-532 694.5,-538 688.5,-544 682.5,-544\"/>\r\n<text text-anchor=\"start\" x=\"598.5\" y=\"-528.8\" font-family=\"Helvetica,sans-Serif\" font-size=\"14.00\">V11 ≤ 2.283</text>\r\n<text text-anchor=\"start\" x=\"600.5\" y=\"-513.8\" font-family=\"Helvetica,sans-Serif\" font-size=\"14.00\">gini = 0.015</text>\r\n<text text-anchor=\"start\" x=\"590.5\" y=\"-498.8\" font-family=\"Helvetica,sans-Serif\" font-size=\"14.00\">samples = 136</text>\r\n<text text-anchor=\"start\" x=\"589.5\" y=\"-483.8\" font-family=\"Helvetica,sans-Serif\" font-size=\"14.00\">value = [135, 1]</text>\r\n<text text-anchor=\"start\" x=\"609\" y=\"-468.8\" font-family=\"Helvetica,sans-Serif\" font-size=\"14.00\">class = 0</text>\r\n</g>\r\n<!-- 0&#45;&gt;20 -->\r\n<g id=\"edge20\" class=\"edge\"><title>0&#45;&gt;20</title>\r\n<path fill=\"none\" stroke=\"black\" d=\"M589.674,-579.907C595.242,-571.105 601.188,-561.703 606.938,-552.612\"/>\r\n<polygon fill=\"black\" stroke=\"black\" points=\"609.984,-554.343 612.371,-544.021 604.068,-550.601 609.984,-554.343\"/>\r\n<text text-anchor=\"middle\" x=\"617.862\" y=\"-564.71\" font-family=\"Helvetica,sans-Serif\" font-size=\"14.00\">False</text>\r\n</g>\r\n<!-- 2 -->\r\n<g id=\"node3\" class=\"node\"><title>2</title>\r\n<path fill=\"#e58139\" stroke=\"black\" d=\"M389,-425C389,-425 275,-425 275,-425 269,-425 263,-419 263,-413 263,-413 263,-354 263,-354 263,-348 269,-342 275,-342 275,-342 389,-342 389,-342 395,-342 401,-348 401,-354 401,-354 401,-413 401,-413 401,-419 395,-425 389,-425\"/>\r\n<text text-anchor=\"start\" x=\"290.5\" y=\"-409.8\" font-family=\"Helvetica,sans-Serif\" font-size=\"14.00\">V12 ≤ &#45;0.418</text>\r\n<text text-anchor=\"start\" x=\"294.5\" y=\"-394.8\" font-family=\"Helvetica,sans-Serif\" font-size=\"14.00\">gini = 0.001</text>\r\n<text text-anchor=\"start\" x=\"276\" y=\"-379.8\" font-family=\"Helvetica,sans-Serif\" font-size=\"14.00\">samples = 19753</text>\r\n<text text-anchor=\"start\" x=\"271\" y=\"-364.8\" font-family=\"Helvetica,sans-Serif\" font-size=\"14.00\">value = [19742, 11]</text>\r\n<text text-anchor=\"start\" x=\"303\" y=\"-349.8\" font-family=\"Helvetica,sans-Serif\" font-size=\"14.00\">class = 0</text>\r\n</g>\r\n<!-- 1&#45;&gt;2 -->\r\n<g id=\"edge2\" class=\"edge\"><title>1&#45;&gt;2</title>\r\n<path fill=\"none\" stroke=\"black\" d=\"M435.183,-460.907C422.192,-451.288 408.236,-440.953 394.917,-431.09\"/>\r\n<polygon fill=\"black\" stroke=\"black\" points=\"396.84,-428.159 386.72,-425.021 392.674,-433.785 396.84,-428.159\"/>\r\n</g>\r\n<!-- 9 -->\r\n<g id=\"node10\" class=\"node\"><title>9</title>\r\n<path fill=\"#e58139\" stroke=\"black\" d=\"M553,-425C553,-425 431,-425 431,-425 425,-425 419,-419 419,-413 419,-413 419,-354 419,-354 419,-348 425,-342 431,-342 431,-342 553,-342 553,-342 559,-342 565,-348 565,-354 565,-354 565,-413 565,-413 565,-419 559,-425 553,-425\"/>\r\n<text text-anchor=\"start\" x=\"454.5\" y=\"-409.8\" font-family=\"Helvetica,sans-Serif\" font-size=\"14.00\">V9 ≤ &#45;1.696</text>\r\n<text text-anchor=\"start\" x=\"463\" y=\"-394.8\" font-family=\"Helvetica,sans-Serif\" font-size=\"14.00\">gini = 0.0</text>\r\n<text text-anchor=\"start\" x=\"432\" y=\"-379.8\" font-family=\"Helvetica,sans-Serif\" font-size=\"14.00\">samples = 130202</text>\r\n<text text-anchor=\"start\" x=\"427\" y=\"-364.8\" font-family=\"Helvetica,sans-Serif\" font-size=\"14.00\">value = [130192, 10]</text>\r\n<text text-anchor=\"start\" x=\"463\" y=\"-349.8\" font-family=\"Helvetica,sans-Serif\" font-size=\"14.00\">class = 0</text>\r\n</g>\r\n<!-- 1&#45;&gt;9 -->\r\n<g id=\"edge9\" class=\"edge\"><title>1&#45;&gt;9</title>\r\n<path fill=\"none\" stroke=\"black\" d=\"M490.694,-460.907C490.837,-452.558 490.989,-443.671 491.136,-435.02\"/>\r\n<polygon fill=\"black\" stroke=\"black\" points=\"494.636,-435.079 491.307,-425.021 487.637,-434.959 494.636,-435.079\"/>\r\n</g>\r\n<!-- 3 -->\r\n<g id=\"node4\" class=\"node\"><title>3</title>\r\n<path fill=\"#e58139\" stroke=\"black\" d=\"M263,-306C263,-306 149,-306 149,-306 143,-306 137,-300 137,-294 137,-294 137,-235 137,-235 137,-229 143,-223 149,-223 149,-223 263,-223 263,-223 269,-223 275,-229 275,-235 275,-235 275,-294 275,-294 275,-300 269,-306 263,-306\"/>\r\n<text text-anchor=\"start\" x=\"164.5\" y=\"-290.8\" font-family=\"Helvetica,sans-Serif\" font-size=\"14.00\">V18 ≤ &#45;0.304</text>\r\n<text text-anchor=\"start\" x=\"168.5\" y=\"-275.8\" font-family=\"Helvetica,sans-Serif\" font-size=\"14.00\">gini = 0.001</text>\r\n<text text-anchor=\"start\" x=\"150\" y=\"-260.8\" font-family=\"Helvetica,sans-Serif\" font-size=\"14.00\">samples = 19752</text>\r\n<text text-anchor=\"start\" x=\"145\" y=\"-245.8\" font-family=\"Helvetica,sans-Serif\" font-size=\"14.00\">value = [19742, 10]</text>\r\n<text text-anchor=\"start\" x=\"177\" y=\"-230.8\" font-family=\"Helvetica,sans-Serif\" font-size=\"14.00\">class = 0</text>\r\n</g>\r\n<!-- 2&#45;&gt;3 -->\r\n<g id=\"edge3\" class=\"edge\"><title>2&#45;&gt;3</title>\r\n<path fill=\"none\" stroke=\"black\" d=\"M288.285,-341.907C278.219,-332.56 267.425,-322.538 257.077,-312.929\"/>\r\n<polygon fill=\"black\" stroke=\"black\" points=\"259.347,-310.261 249.638,-306.021 254.584,-315.39 259.347,-310.261\"/>\r\n</g>\r\n<!-- 8 -->\r\n<g id=\"node9\" class=\"node\"><title>8</title>\r\n<path fill=\"#399de5\" stroke=\"black\" d=\"M378.5,-298.5C378.5,-298.5 305.5,-298.5 305.5,-298.5 299.5,-298.5 293.5,-292.5 293.5,-286.5 293.5,-286.5 293.5,-242.5 293.5,-242.5 293.5,-236.5 299.5,-230.5 305.5,-230.5 305.5,-230.5 378.5,-230.5 378.5,-230.5 384.5,-230.5 390.5,-236.5 390.5,-242.5 390.5,-242.5 390.5,-286.5 390.5,-286.5 390.5,-292.5 384.5,-298.5 378.5,-298.5\"/>\r\n<text text-anchor=\"start\" x=\"313\" y=\"-283.3\" font-family=\"Helvetica,sans-Serif\" font-size=\"14.00\">gini = 0.0</text>\r\n<text text-anchor=\"start\" x=\"302.5\" y=\"-268.3\" font-family=\"Helvetica,sans-Serif\" font-size=\"14.00\">samples = 1</text>\r\n<text text-anchor=\"start\" x=\"301.5\" y=\"-253.3\" font-family=\"Helvetica,sans-Serif\" font-size=\"14.00\">value = [0, 1]</text>\r\n<text text-anchor=\"start\" x=\"313\" y=\"-238.3\" font-family=\"Helvetica,sans-Serif\" font-size=\"14.00\">class = 1</text>\r\n</g>\r\n<!-- 2&#45;&gt;8 -->\r\n<g id=\"edge8\" class=\"edge\"><title>2&#45;&gt;8</title>\r\n<path fill=\"none\" stroke=\"black\" d=\"M335.469,-341.907C336.384,-331.204 337.375,-319.615 338.301,-308.776\"/>\r\n<polygon fill=\"black\" stroke=\"black\" points=\"341.801,-308.929 339.165,-298.667 334.826,-308.333 341.801,-308.929\"/>\r\n</g>\r\n<!-- 4 -->\r\n<g id=\"node5\" class=\"node\"><title>4</title>\r\n<path fill=\"#e58139\" stroke=\"black\" d=\"M110,-179.5C110,-179.5 12,-179.5 12,-179.5 6,-179.5 7.10543e-015,-173.5 7.10543e-015,-167.5 7.10543e-015,-167.5 7.10543e-015,-123.5 7.10543e-015,-123.5 7.10543e-015,-117.5 6,-111.5 12,-111.5 12,-111.5 110,-111.5 110,-111.5 116,-111.5 122,-117.5 122,-123.5 122,-123.5 122,-167.5 122,-167.5 122,-173.5 116,-179.5 110,-179.5\"/>\r\n<text text-anchor=\"start\" x=\"32\" y=\"-164.3\" font-family=\"Helvetica,sans-Serif\" font-size=\"14.00\">gini = 0.0</text>\r\n<text text-anchor=\"start\" x=\"9.5\" y=\"-149.3\" font-family=\"Helvetica,sans-Serif\" font-size=\"14.00\">samples = 8984</text>\r\n<text text-anchor=\"start\" x=\"8\" y=\"-134.3\" font-family=\"Helvetica,sans-Serif\" font-size=\"14.00\">value = [8984, 0]</text>\r\n<text text-anchor=\"start\" x=\"32\" y=\"-119.3\" font-family=\"Helvetica,sans-Serif\" font-size=\"14.00\">class = 0</text>\r\n</g>\r\n<!-- 3&#45;&gt;4 -->\r\n<g id=\"edge4\" class=\"edge\"><title>3&#45;&gt;4</title>\r\n<path fill=\"none\" stroke=\"black\" d=\"M155.693,-222.907C140.924,-210.99 124.795,-197.976 110.102,-186.12\"/>\r\n<polygon fill=\"black\" stroke=\"black\" points=\"112.085,-183.223 102.104,-179.667 107.689,-188.67 112.085,-183.223\"/>\r\n</g>\r\n<!-- 5 -->\r\n<g id=\"node6\" class=\"node\"><title>5</title>\r\n<path fill=\"#e58139\" stroke=\"black\" d=\"M266,-187C266,-187 152,-187 152,-187 146,-187 140,-181 140,-175 140,-175 140,-116 140,-116 140,-110 146,-104 152,-104 152,-104 266,-104 266,-104 272,-104 278,-110 278,-116 278,-116 278,-175 278,-175 278,-181 272,-187 266,-187\"/>\r\n<text text-anchor=\"start\" x=\"167.5\" y=\"-171.8\" font-family=\"Helvetica,sans-Serif\" font-size=\"14.00\">V18 ≤ &#45;0.304</text>\r\n<text text-anchor=\"start\" x=\"171.5\" y=\"-156.8\" font-family=\"Helvetica,sans-Serif\" font-size=\"14.00\">gini = 0.002</text>\r\n<text text-anchor=\"start\" x=\"153\" y=\"-141.8\" font-family=\"Helvetica,sans-Serif\" font-size=\"14.00\">samples = 10768</text>\r\n<text text-anchor=\"start\" x=\"148\" y=\"-126.8\" font-family=\"Helvetica,sans-Serif\" font-size=\"14.00\">value = [10758, 10]</text>\r\n<text text-anchor=\"start\" x=\"180\" y=\"-111.8\" font-family=\"Helvetica,sans-Serif\" font-size=\"14.00\">class = 0</text>\r\n</g>\r\n<!-- 3&#45;&gt;5 -->\r\n<g id=\"edge5\" class=\"edge\"><title>3&#45;&gt;5</title>\r\n<path fill=\"none\" stroke=\"black\" d=\"M207.041,-222.907C207.255,-214.558 207.483,-205.671 207.705,-197.02\"/>\r\n<polygon fill=\"black\" stroke=\"black\" points=\"211.203,-197.107 207.961,-187.021 204.206,-196.928 211.203,-197.107\"/>\r\n</g>\r\n<!-- 6 -->\r\n<g id=\"node7\" class=\"node\"><title>6</title>\r\n<path fill=\"#399de5\" stroke=\"black\" d=\"M177.5,-68C177.5,-68 104.5,-68 104.5,-68 98.5,-68 92.5,-62 92.5,-56 92.5,-56 92.5,-12 92.5,-12 92.5,-6 98.5,-0 104.5,-0 104.5,-0 177.5,-0 177.5,-0 183.5,-0 189.5,-6 189.5,-12 189.5,-12 189.5,-56 189.5,-56 189.5,-62 183.5,-68 177.5,-68\"/>\r\n<text text-anchor=\"start\" x=\"112\" y=\"-52.8\" font-family=\"Helvetica,sans-Serif\" font-size=\"14.00\">gini = 0.0</text>\r\n<text text-anchor=\"start\" x=\"101.5\" y=\"-37.8\" font-family=\"Helvetica,sans-Serif\" font-size=\"14.00\">samples = 1</text>\r\n<text text-anchor=\"start\" x=\"100.5\" y=\"-22.8\" font-family=\"Helvetica,sans-Serif\" font-size=\"14.00\">value = [0, 1]</text>\r\n<text text-anchor=\"start\" x=\"112\" y=\"-7.8\" font-family=\"Helvetica,sans-Serif\" font-size=\"14.00\">class = 1</text>\r\n</g>\r\n<!-- 5&#45;&gt;6 -->\r\n<g id=\"edge6\" class=\"edge\"><title>5&#45;&gt;6</title>\r\n<path fill=\"none\" stroke=\"black\" d=\"M183.679,-103.726C178.242,-94.9703 172.487,-85.7032 167.023,-76.9051\"/>\r\n<polygon fill=\"black\" stroke=\"black\" points=\"169.928,-74.9484 161.679,-68.2996 163.981,-78.6413 169.928,-74.9484\"/>\r\n</g>\r\n<!-- 7 -->\r\n<g id=\"node8\" class=\"node\"><title>7</title>\r\n<path fill=\"#e58139\" stroke=\"black\" d=\"M326,-68C326,-68 220,-68 220,-68 214,-68 208,-62 208,-56 208,-56 208,-12 208,-12 208,-6 214,-0 220,-0 220,-0 326,-0 326,-0 332,-0 338,-6 338,-12 338,-12 338,-56 338,-56 338,-62 332,-68 326,-68\"/>\r\n<text text-anchor=\"start\" x=\"235.5\" y=\"-52.8\" font-family=\"Helvetica,sans-Serif\" font-size=\"14.00\">gini = 0.002</text>\r\n<text text-anchor=\"start\" x=\"217\" y=\"-37.8\" font-family=\"Helvetica,sans-Serif\" font-size=\"14.00\">samples = 10767</text>\r\n<text text-anchor=\"start\" x=\"216\" y=\"-22.8\" font-family=\"Helvetica,sans-Serif\" font-size=\"14.00\">value = [10758, 9]</text>\r\n<text text-anchor=\"start\" x=\"244\" y=\"-7.8\" font-family=\"Helvetica,sans-Serif\" font-size=\"14.00\">class = 0</text>\r\n</g>\r\n<!-- 5&#45;&gt;7 -->\r\n<g id=\"edge7\" class=\"edge\"><title>5&#45;&gt;7</title>\r\n<path fill=\"none\" stroke=\"black\" d=\"M232.831,-103.726C237.896,-95.0615 243.252,-85.8962 248.347,-77.1802\"/>\r\n<polygon fill=\"black\" stroke=\"black\" points=\"251.513,-78.6992 253.537,-68.2996 245.469,-75.167 251.513,-78.6992\"/>\r\n</g>\r\n<!-- 10 -->\r\n<g id=\"node11\" class=\"node\"><title>10</title>\r\n<path fill=\"#e58139\" stroke=\"black\" d=\"M518.5,-306C518.5,-306 429.5,-306 429.5,-306 423.5,-306 417.5,-300 417.5,-294 417.5,-294 417.5,-235 417.5,-235 417.5,-229 423.5,-223 429.5,-223 429.5,-223 518.5,-223 518.5,-223 524.5,-223 530.5,-229 530.5,-235 530.5,-235 530.5,-294 530.5,-294 530.5,-300 524.5,-306 518.5,-306\"/>\r\n<text text-anchor=\"start\" x=\"436.5\" y=\"-290.8\" font-family=\"Helvetica,sans-Serif\" font-size=\"14.00\">V9 ≤ &#45;1.696</text>\r\n<text text-anchor=\"start\" x=\"436.5\" y=\"-275.8\" font-family=\"Helvetica,sans-Serif\" font-size=\"14.00\">gini = 0.003</text>\r\n<text text-anchor=\"start\" x=\"426.5\" y=\"-260.8\" font-family=\"Helvetica,sans-Serif\" font-size=\"14.00\">samples = 657</text>\r\n<text text-anchor=\"start\" x=\"425.5\" y=\"-245.8\" font-family=\"Helvetica,sans-Serif\" font-size=\"14.00\">value = [656, 1]</text>\r\n<text text-anchor=\"start\" x=\"445\" y=\"-230.8\" font-family=\"Helvetica,sans-Serif\" font-size=\"14.00\">class = 0</text>\r\n</g>\r\n<!-- 9&#45;&gt;10 -->\r\n<g id=\"edge10\" class=\"edge\"><title>9&#45;&gt;10</title>\r\n<path fill=\"none\" stroke=\"black\" d=\"M485.755,-341.907C484.471,-333.558 483.103,-324.671 481.772,-316.02\"/>\r\n<polygon fill=\"black\" stroke=\"black\" points=\"485.214,-315.372 480.234,-306.021 478.295,-316.437 485.214,-315.372\"/>\r\n</g>\r\n<!-- 13 -->\r\n<g id=\"node14\" class=\"node\"><title>13</title>\r\n<path fill=\"#e58139\" stroke=\"black\" d=\"M675,-306C675,-306 561,-306 561,-306 555,-306 549,-300 549,-294 549,-294 549,-235 549,-235 549,-229 555,-223 561,-223 561,-223 675,-223 675,-223 681,-223 687,-229 687,-235 687,-235 687,-294 687,-294 687,-300 681,-306 675,-306\"/>\r\n<text text-anchor=\"start\" x=\"576.5\" y=\"-290.8\" font-family=\"Helvetica,sans-Serif\" font-size=\"14.00\">V16 ≤ &#45;0.911</text>\r\n<text text-anchor=\"start\" x=\"589\" y=\"-275.8\" font-family=\"Helvetica,sans-Serif\" font-size=\"14.00\">gini = 0.0</text>\r\n<text text-anchor=\"start\" x=\"558\" y=\"-260.8\" font-family=\"Helvetica,sans-Serif\" font-size=\"14.00\">samples = 129545</text>\r\n<text text-anchor=\"start\" x=\"557\" y=\"-245.8\" font-family=\"Helvetica,sans-Serif\" font-size=\"14.00\">value = [129536, 9]</text>\r\n<text text-anchor=\"start\" x=\"589\" y=\"-230.8\" font-family=\"Helvetica,sans-Serif\" font-size=\"14.00\">class = 0</text>\r\n</g>\r\n<!-- 9&#45;&gt;13 -->\r\n<g id=\"edge13\" class=\"edge\"><title>9&#45;&gt;13</title>\r\n<path fill=\"none\" stroke=\"black\" d=\"M535.715,-341.907C545.781,-332.56 556.575,-322.538 566.923,-312.929\"/>\r\n<polygon fill=\"black\" stroke=\"black\" points=\"569.416,-315.39 574.362,-306.021 564.653,-310.261 569.416,-315.39\"/>\r\n</g>\r\n<!-- 11 -->\r\n<g id=\"node12\" class=\"node\"><title>11</title>\r\n<path fill=\"#e58139\" stroke=\"black\" d=\"M401.5,-179.5C401.5,-179.5 312.5,-179.5 312.5,-179.5 306.5,-179.5 300.5,-173.5 300.5,-167.5 300.5,-167.5 300.5,-123.5 300.5,-123.5 300.5,-117.5 306.5,-111.5 312.5,-111.5 312.5,-111.5 401.5,-111.5 401.5,-111.5 407.5,-111.5 413.5,-117.5 413.5,-123.5 413.5,-123.5 413.5,-167.5 413.5,-167.5 413.5,-173.5 407.5,-179.5 401.5,-179.5\"/>\r\n<text text-anchor=\"start\" x=\"328\" y=\"-164.3\" font-family=\"Helvetica,sans-Serif\" font-size=\"14.00\">gini = 0.0</text>\r\n<text text-anchor=\"start\" x=\"309.5\" y=\"-149.3\" font-family=\"Helvetica,sans-Serif\" font-size=\"14.00\">samples = 656</text>\r\n<text text-anchor=\"start\" x=\"308.5\" y=\"-134.3\" font-family=\"Helvetica,sans-Serif\" font-size=\"14.00\">value = [656, 0]</text>\r\n<text text-anchor=\"start\" x=\"328\" y=\"-119.3\" font-family=\"Helvetica,sans-Serif\" font-size=\"14.00\">class = 0</text>\r\n</g>\r\n<!-- 10&#45;&gt;11 -->\r\n<g id=\"edge11\" class=\"edge\"><title>10&#45;&gt;11</title>\r\n<path fill=\"none\" stroke=\"black\" d=\"M433.407,-222.907C421.711,-211.211 408.957,-198.457 397.28,-186.78\"/>\r\n<polygon fill=\"black\" stroke=\"black\" points=\"399.713,-184.263 390.167,-179.667 394.763,-189.213 399.713,-184.263\"/>\r\n</g>\r\n<!-- 12 -->\r\n<g id=\"node13\" class=\"node\"><title>12</title>\r\n<path fill=\"#399de5\" stroke=\"black\" d=\"M516.5,-179.5C516.5,-179.5 443.5,-179.5 443.5,-179.5 437.5,-179.5 431.5,-173.5 431.5,-167.5 431.5,-167.5 431.5,-123.5 431.5,-123.5 431.5,-117.5 437.5,-111.5 443.5,-111.5 443.5,-111.5 516.5,-111.5 516.5,-111.5 522.5,-111.5 528.5,-117.5 528.5,-123.5 528.5,-123.5 528.5,-167.5 528.5,-167.5 528.5,-173.5 522.5,-179.5 516.5,-179.5\"/>\r\n<text text-anchor=\"start\" x=\"451\" y=\"-164.3\" font-family=\"Helvetica,sans-Serif\" font-size=\"14.00\">gini = 0.0</text>\r\n<text text-anchor=\"start\" x=\"440.5\" y=\"-149.3\" font-family=\"Helvetica,sans-Serif\" font-size=\"14.00\">samples = 1</text>\r\n<text text-anchor=\"start\" x=\"439.5\" y=\"-134.3\" font-family=\"Helvetica,sans-Serif\" font-size=\"14.00\">value = [0, 1]</text>\r\n<text text-anchor=\"start\" x=\"451\" y=\"-119.3\" font-family=\"Helvetica,sans-Serif\" font-size=\"14.00\">class = 1</text>\r\n</g>\r\n<!-- 10&#45;&gt;12 -->\r\n<g id=\"edge12\" class=\"edge\"><title>10&#45;&gt;12</title>\r\n<path fill=\"none\" stroke=\"black\" d=\"M476.082,-222.907C476.631,-212.204 477.225,-200.615 477.781,-189.776\"/>\r\n<polygon fill=\"black\" stroke=\"black\" points=\"481.282,-189.833 478.299,-179.667 474.291,-189.475 481.282,-189.833\"/>\r\n</g>\r\n<!-- 14 -->\r\n<g id=\"node15\" class=\"node\"><title>14</title>\r\n<path fill=\"#e58139\" stroke=\"black\" d=\"M659,-187C659,-187 561,-187 561,-187 555,-187 549,-181 549,-175 549,-175 549,-116 549,-116 549,-110 555,-104 561,-104 561,-104 659,-104 659,-104 665,-104 671,-110 671,-116 671,-116 671,-175 671,-175 671,-181 665,-187 659,-187\"/>\r\n<text text-anchor=\"start\" x=\"568.5\" y=\"-171.8\" font-family=\"Helvetica,sans-Serif\" font-size=\"14.00\">V16 ≤ &#45;0.911</text>\r\n<text text-anchor=\"start\" x=\"572.5\" y=\"-156.8\" font-family=\"Helvetica,sans-Serif\" font-size=\"14.00\">gini = 0.001</text>\r\n<text text-anchor=\"start\" x=\"558.5\" y=\"-141.8\" font-family=\"Helvetica,sans-Serif\" font-size=\"14.00\">samples = 9155</text>\r\n<text text-anchor=\"start\" x=\"557\" y=\"-126.8\" font-family=\"Helvetica,sans-Serif\" font-size=\"14.00\">value = [9152, 3]</text>\r\n<text text-anchor=\"start\" x=\"581\" y=\"-111.8\" font-family=\"Helvetica,sans-Serif\" font-size=\"14.00\">class = 0</text>\r\n</g>\r\n<!-- 13&#45;&gt;14 -->\r\n<g id=\"edge14\" class=\"edge\"><title>13&#45;&gt;14</title>\r\n<path fill=\"none\" stroke=\"black\" d=\"M615.224,-222.907C614.654,-214.558 614.046,-205.671 613.454,-197.02\"/>\r\n<polygon fill=\"black\" stroke=\"black\" points=\"616.945,-196.759 612.771,-187.021 609.961,-197.236 616.945,-196.759\"/>\r\n</g>\r\n<!-- 17 -->\r\n<g id=\"node18\" class=\"node\"><title>17</title>\r\n<path fill=\"#e58139\" stroke=\"black\" d=\"M815,-187C815,-187 701,-187 701,-187 695,-187 689,-181 689,-175 689,-175 689,-116 689,-116 689,-110 695,-104 701,-104 701,-104 815,-104 815,-104 821,-104 827,-110 827,-116 827,-116 827,-175 827,-175 827,-181 821,-187 815,-187\"/>\r\n<text text-anchor=\"start\" x=\"723\" y=\"-171.8\" font-family=\"Helvetica,sans-Serif\" font-size=\"14.00\">V11 ≤ 1.12</text>\r\n<text text-anchor=\"start\" x=\"729\" y=\"-156.8\" font-family=\"Helvetica,sans-Serif\" font-size=\"14.00\">gini = 0.0</text>\r\n<text text-anchor=\"start\" x=\"698\" y=\"-141.8\" font-family=\"Helvetica,sans-Serif\" font-size=\"14.00\">samples = 120390</text>\r\n<text text-anchor=\"start\" x=\"697\" y=\"-126.8\" font-family=\"Helvetica,sans-Serif\" font-size=\"14.00\">value = [120384, 6]</text>\r\n<text text-anchor=\"start\" x=\"729\" y=\"-111.8\" font-family=\"Helvetica,sans-Serif\" font-size=\"14.00\">class = 0</text>\r\n</g>\r\n<!-- 13&#45;&gt;17 -->\r\n<g id=\"edge17\" class=\"edge\"><title>13&#45;&gt;17</title>\r\n<path fill=\"none\" stroke=\"black\" d=\"M666.572,-222.907C677.866,-213.469 689.983,-203.343 701.582,-193.649\"/>\r\n<polygon fill=\"black\" stroke=\"black\" points=\"704.085,-196.119 709.514,-187.021 699.596,-190.748 704.085,-196.119\"/>\r\n</g>\r\n<!-- 15 -->\r\n<g id=\"node16\" class=\"node\"><title>15</title>\r\n<path fill=\"#e58139\" stroke=\"black\" d=\"M534,-68C534,-68 436,-68 436,-68 430,-68 424,-62 424,-56 424,-56 424,-12 424,-12 424,-6 430,-0 436,-0 436,-0 534,-0 534,-0 540,-0 546,-6 546,-12 546,-12 546,-56 546,-56 546,-62 540,-68 534,-68\"/>\r\n<text text-anchor=\"start\" x=\"456\" y=\"-52.8\" font-family=\"Helvetica,sans-Serif\" font-size=\"14.00\">gini = 0.0</text>\r\n<text text-anchor=\"start\" x=\"433.5\" y=\"-37.8\" font-family=\"Helvetica,sans-Serif\" font-size=\"14.00\">samples = 9154</text>\r\n<text text-anchor=\"start\" x=\"432\" y=\"-22.8\" font-family=\"Helvetica,sans-Serif\" font-size=\"14.00\">value = [9152, 2]</text>\r\n<text text-anchor=\"start\" x=\"456\" y=\"-7.8\" font-family=\"Helvetica,sans-Serif\" font-size=\"14.00\">class = 0</text>\r\n</g>\r\n<!-- 14&#45;&gt;15 -->\r\n<g id=\"edge15\" class=\"edge\"><title>14&#45;&gt;15</title>\r\n<path fill=\"none\" stroke=\"black\" d=\"M563.455,-103.726C552.73,-94.3318 541.334,-84.349 530.649,-74.9883\"/>\r\n<polygon fill=\"black\" stroke=\"black\" points=\"532.842,-72.2562 523.013,-68.2996 528.229,-77.5217 532.842,-72.2562\"/>\r\n</g>\r\n<!-- 16 -->\r\n<g id=\"node17\" class=\"node\"><title>16</title>\r\n<path fill=\"#399de5\" stroke=\"black\" d=\"M649.5,-68C649.5,-68 576.5,-68 576.5,-68 570.5,-68 564.5,-62 564.5,-56 564.5,-56 564.5,-12 564.5,-12 564.5,-6 570.5,-0 576.5,-0 576.5,-0 649.5,-0 649.5,-0 655.5,-0 661.5,-6 661.5,-12 661.5,-12 661.5,-56 661.5,-56 661.5,-62 655.5,-68 649.5,-68\"/>\r\n<text text-anchor=\"start\" x=\"584\" y=\"-52.8\" font-family=\"Helvetica,sans-Serif\" font-size=\"14.00\">gini = 0.0</text>\r\n<text text-anchor=\"start\" x=\"573.5\" y=\"-37.8\" font-family=\"Helvetica,sans-Serif\" font-size=\"14.00\">samples = 1</text>\r\n<text text-anchor=\"start\" x=\"572.5\" y=\"-22.8\" font-family=\"Helvetica,sans-Serif\" font-size=\"14.00\">value = [0, 1]</text>\r\n<text text-anchor=\"start\" x=\"584\" y=\"-7.8\" font-family=\"Helvetica,sans-Serif\" font-size=\"14.00\">class = 1</text>\r\n</g>\r\n<!-- 14&#45;&gt;16 -->\r\n<g id=\"edge16\" class=\"edge\"><title>14&#45;&gt;16</title>\r\n<path fill=\"none\" stroke=\"black\" d=\"M611.117,-103.726C611.342,-95.5175 611.579,-86.8595 611.807,-78.56\"/>\r\n<polygon fill=\"black\" stroke=\"black\" points=\"615.312,-78.3917 612.088,-68.2996 608.315,-78.2 615.312,-78.3917\"/>\r\n</g>\r\n<!-- 18 -->\r\n<g id=\"node19\" class=\"node\"><title>18</title>\r\n<path fill=\"#e58139\" stroke=\"black\" d=\"M812,-68C812,-68 698,-68 698,-68 692,-68 686,-62 686,-56 686,-56 686,-12 686,-12 686,-6 692,-0 698,-0 698,-0 812,-0 812,-0 818,-0 824,-6 824,-12 824,-12 824,-56 824,-56 824,-62 818,-68 812,-68\"/>\r\n<text text-anchor=\"start\" x=\"726\" y=\"-52.8\" font-family=\"Helvetica,sans-Serif\" font-size=\"14.00\">gini = 0.0</text>\r\n<text text-anchor=\"start\" x=\"695\" y=\"-37.8\" font-family=\"Helvetica,sans-Serif\" font-size=\"14.00\">samples = 103426</text>\r\n<text text-anchor=\"start\" x=\"694\" y=\"-22.8\" font-family=\"Helvetica,sans-Serif\" font-size=\"14.00\">value = [103424, 2]</text>\r\n<text text-anchor=\"start\" x=\"726\" y=\"-7.8\" font-family=\"Helvetica,sans-Serif\" font-size=\"14.00\">class = 0</text>\r\n</g>\r\n<!-- 17&#45;&gt;18 -->\r\n<g id=\"edge18\" class=\"edge\"><title>17&#45;&gt;18</title>\r\n<path fill=\"none\" stroke=\"black\" d=\"M756.883,-103.726C756.658,-95.5175 756.421,-86.8595 756.193,-78.56\"/>\r\n<polygon fill=\"black\" stroke=\"black\" points=\"759.685,-78.2 755.912,-68.2996 752.688,-78.3917 759.685,-78.2\"/>\r\n</g>\r\n<!-- 19 -->\r\n<g id=\"node20\" class=\"node\"><title>19</title>\r\n<path fill=\"#e58139\" stroke=\"black\" d=\"M960,-68C960,-68 854,-68 854,-68 848,-68 842,-62 842,-56 842,-56 842,-12 842,-12 842,-6 848,-0 854,-0 854,-0 960,-0 960,-0 966,-0 972,-6 972,-12 972,-12 972,-56 972,-56 972,-62 966,-68 960,-68\"/>\r\n<text text-anchor=\"start\" x=\"878\" y=\"-52.8\" font-family=\"Helvetica,sans-Serif\" font-size=\"14.00\">gini = 0.0</text>\r\n<text text-anchor=\"start\" x=\"851\" y=\"-37.8\" font-family=\"Helvetica,sans-Serif\" font-size=\"14.00\">samples = 16964</text>\r\n<text text-anchor=\"start\" x=\"850\" y=\"-22.8\" font-family=\"Helvetica,sans-Serif\" font-size=\"14.00\">value = [16960, 4]</text>\r\n<text text-anchor=\"start\" x=\"878\" y=\"-7.8\" font-family=\"Helvetica,sans-Serif\" font-size=\"14.00\">class = 0</text>\r\n</g>\r\n<!-- 17&#45;&gt;19 -->\r\n<g id=\"edge19\" class=\"edge\"><title>17&#45;&gt;19</title>\r\n<path fill=\"none\" stroke=\"black\" d=\"M813.482,-103.726C826.514,-94.1494 840.377,-83.9611 853.328,-74.4438\"/>\r\n<polygon fill=\"black\" stroke=\"black\" points=\"855.703,-77.0418 861.688,-68.2996 851.558,-71.4012 855.703,-77.0418\"/>\r\n</g>\r\n<!-- 21 -->\r\n<g id=\"node22\" class=\"node\"><title>21</title>\r\n<path fill=\"#399de5\" stroke=\"black\" d=\"M672.5,-417.5C672.5,-417.5 599.5,-417.5 599.5,-417.5 593.5,-417.5 587.5,-411.5 587.5,-405.5 587.5,-405.5 587.5,-361.5 587.5,-361.5 587.5,-355.5 593.5,-349.5 599.5,-349.5 599.5,-349.5 672.5,-349.5 672.5,-349.5 678.5,-349.5 684.5,-355.5 684.5,-361.5 684.5,-361.5 684.5,-405.5 684.5,-405.5 684.5,-411.5 678.5,-417.5 672.5,-417.5\"/>\r\n<text text-anchor=\"start\" x=\"607\" y=\"-402.3\" font-family=\"Helvetica,sans-Serif\" font-size=\"14.00\">gini = 0.0</text>\r\n<text text-anchor=\"start\" x=\"596.5\" y=\"-387.3\" font-family=\"Helvetica,sans-Serif\" font-size=\"14.00\">samples = 1</text>\r\n<text text-anchor=\"start\" x=\"595.5\" y=\"-372.3\" font-family=\"Helvetica,sans-Serif\" font-size=\"14.00\">value = [0, 1]</text>\r\n<text text-anchor=\"start\" x=\"607\" y=\"-357.3\" font-family=\"Helvetica,sans-Serif\" font-size=\"14.00\">class = 1</text>\r\n</g>\r\n<!-- 20&#45;&gt;21 -->\r\n<g id=\"edge21\" class=\"edge\"><title>20&#45;&gt;21</title>\r\n<path fill=\"none\" stroke=\"black\" d=\"M637.306,-460.907C637.123,-450.204 636.925,-438.615 636.74,-427.776\"/>\r\n<polygon fill=\"black\" stroke=\"black\" points=\"640.237,-427.606 636.567,-417.667 633.238,-427.725 640.237,-427.606\"/>\r\n</g>\r\n<!-- 22 -->\r\n<g id=\"node23\" class=\"node\"><title>22</title>\r\n<path fill=\"#e58139\" stroke=\"black\" d=\"M803.5,-417.5C803.5,-417.5 714.5,-417.5 714.5,-417.5 708.5,-417.5 702.5,-411.5 702.5,-405.5 702.5,-405.5 702.5,-361.5 702.5,-361.5 702.5,-355.5 708.5,-349.5 714.5,-349.5 714.5,-349.5 803.5,-349.5 803.5,-349.5 809.5,-349.5 815.5,-355.5 815.5,-361.5 815.5,-361.5 815.5,-405.5 815.5,-405.5 815.5,-411.5 809.5,-417.5 803.5,-417.5\"/>\r\n<text text-anchor=\"start\" x=\"730\" y=\"-402.3\" font-family=\"Helvetica,sans-Serif\" font-size=\"14.00\">gini = 0.0</text>\r\n<text text-anchor=\"start\" x=\"711.5\" y=\"-387.3\" font-family=\"Helvetica,sans-Serif\" font-size=\"14.00\">samples = 135</text>\r\n<text text-anchor=\"start\" x=\"710.5\" y=\"-372.3\" font-family=\"Helvetica,sans-Serif\" font-size=\"14.00\">value = [135, 0]</text>\r\n<text text-anchor=\"start\" x=\"730\" y=\"-357.3\" font-family=\"Helvetica,sans-Serif\" font-size=\"14.00\">class = 0</text>\r\n</g>\r\n<!-- 20&#45;&gt;22 -->\r\n<g id=\"edge22\" class=\"edge\"><title>20&#45;&gt;22</title>\r\n<path fill=\"none\" stroke=\"black\" d=\"M679.98,-460.907C692.077,-449.211 705.266,-436.457 717.343,-424.78\"/>\r\n<polygon fill=\"black\" stroke=\"black\" points=\"719.943,-427.134 724.699,-417.667 715.077,-422.102 719.943,-427.134\"/>\r\n</g>\r\n</g>\r\n</svg>\r\n",
      "text/plain": [
       "<graphviz.files.Source at 0x1b67b63ac50>"
      ]
     },
     "execution_count": 71,
     "metadata": {},
     "output_type": "execute_result"
    }
   ],
   "source": [
    "import graphviz\n",
    "dot_data = tree.export_graphviz(clf, out_file=None,\n",
    "                                feature_names=X.columns,\n",
    "                                class_names=['0','1'], \n",
    "                                filled=True, rounded=True,special_characters=True)  \n",
    "graph = graphviz.Source(dot_data)  \n",
    "graph "
   ]
  }
 ],
 "metadata": {
  "kernelspec": {
   "display_name": "Python 3 (ipykernel)",
   "language": "python",
   "name": "python3"
  },
  "language_info": {
   "codemirror_mode": {
    "name": "ipython",
    "version": 3
   },
   "file_extension": ".py",
   "mimetype": "text/x-python",
   "name": "python",
   "nbconvert_exporter": "python",
   "pygments_lexer": "ipython3",
   "version": "3.10.8"
  },
  "toc": {
   "base_numbering": 1,
   "nav_menu": {},
   "number_sections": true,
   "sideBar": true,
   "skip_h1_title": false,
   "title_cell": "Table of Contents",
   "title_sidebar": "Contents",
   "toc_cell": false,
   "toc_position": {},
   "toc_section_display": true,
   "toc_window_display": false
  }
 },
 "nbformat": 4,
 "nbformat_minor": 5
}
